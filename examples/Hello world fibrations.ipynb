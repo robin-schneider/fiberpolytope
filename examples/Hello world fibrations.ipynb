{
 "cells": [
  {
   "cell_type": "markdown",
   "metadata": {},
   "source": [
    "# Fibrations and subpolytopes\n",
    "\n",
    "In this notebook we will look at subpolytopes, enhancement diagrams, Kollar divisors and fibrations of 4d reflexive polytopes."
   ]
  },
  {
   "cell_type": "code",
   "execution_count": 1,
   "metadata": {},
   "outputs": [],
   "source": [
    "#from fiberpolytope import fiberpolytope\n",
    "load('fiberpolytope.sage')"
   ]
  },
  {
   "cell_type": "markdown",
   "metadata": {},
   "source": [
    "## F2 x P2\n",
    "\n",
    "Let's study the reflexive polytope corresponding to an F2 x P2 direct product ambient space."
   ]
  },
  {
   "cell_type": "code",
   "execution_count": 2,
   "metadata": {},
   "outputs": [],
   "source": [
    "vertices1 = [[-1, -1, 0,0],[1, 0, 0,0], [0, 1, 0,0],\n",
    "             [0,0,-1, -2], [0,0,0, -1] ,[0,0,1, 0], [0,0,0, 1]]\n",
    "M = fiberpolytope(vertices1)"
   ]
  },
  {
   "cell_type": "markdown",
   "metadata": {},
   "source": [
    "we can find all 2d subpolytopes using an [algorithm](http://ctp.lns.mit.edu/wati/data/fibers/fibers.jl) by Huang and Taylor."
   ]
  },
  {
   "cell_type": "code",
   "execution_count": 3,
   "metadata": {},
   "outputs": [
    {
     "name": "stdout",
     "output_type": "stream",
     "text": [
      "Help on method find_subpolytopes in module __main__:\n",
      "\n",
      "find_subpolytopes() method of __main__.fiberpolytope instance\n",
      "    Finds all subpolytopes.\n",
      "    Only supported for 4d polytopes.\n",
      "    A straightforward translation of the julia code to python\n",
      "    from 1809.05160. The Julia code is due to Huang and Taylor \n",
      "    and can be found here:\n",
      "        http://ctp.lns.mit.edu/wati/data/fibers/fibers.jl\n",
      "    \n",
      "    Returns\n",
      "    -------\n",
      "        nested list of vertices corresponding to the subpolytopes\n",
      "\n"
     ]
    }
   ],
   "source": [
    "help(M.find_subpolytopes)"
   ]
  },
  {
   "cell_type": "code",
   "execution_count": 4,
   "metadata": {},
   "outputs": [
    {
     "data": {
      "text/plain": [
       "[array([[-1, -1,  0,  0],\n",
       "        [ 1,  0,  0,  0],\n",
       "        [ 0,  1,  0,  0],\n",
       "        [ 0,  0,  0,  0]]), array([[ 0,  0, -1, -2],\n",
       "        [ 0,  0,  0,  1],\n",
       "        [ 0,  0,  1,  0],\n",
       "        [ 0,  0,  0, -1],\n",
       "        [ 0,  0,  0,  0]])]"
      ]
     },
     "execution_count": 4,
     "metadata": {},
     "output_type": "execute_result"
    }
   ],
   "source": [
    "M.find_subpolytopes()"
   ]
  },
  {
   "cell_type": "markdown",
   "metadata": {},
   "source": [
    "We easily recover the two ambient space factors of P2 and F2.\n",
    "\n",
    "Other tools to study fibrations utilize Kollar divisors. For that we reuquire second Chern class and triple intersection numbers of the underlying manifold, these are dependent on the triangulation chosen.\n",
    "\n",
    "We can set a triangulation with:"
   ]
  },
  {
   "cell_type": "code",
   "execution_count": 5,
   "metadata": {},
   "outputs": [
    {
     "name": "stderr",
     "output_type": "stream",
     "text": [
      "fiberpolytope:INFO:No triangulation specified, picking first triangulation.\n"
     ]
    }
   ],
   "source": [
    "M.set_triangulation()"
   ]
  },
  {
   "cell_type": "markdown",
   "metadata": {},
   "source": [
    "the triple intersection numbers are"
   ]
  },
  {
   "cell_type": "code",
   "execution_count": 6,
   "metadata": {},
   "outputs": [
    {
     "data": {
      "text/plain": [
       "array([[[0, 2, 4],\n",
       "        [2, 0, 3],\n",
       "        [4, 3, 6]],\n",
       "\n",
       "       [[2, 0, 3],\n",
       "        [0, 0, 0],\n",
       "        [3, 0, 0]],\n",
       "\n",
       "       [[4, 3, 6],\n",
       "        [3, 0, 0],\n",
       "        [6, 0, 0]]], dtype=int32)"
      ]
     },
     "execution_count": 6,
     "metadata": {},
     "output_type": "execute_result"
    }
   ],
   "source": [
    "triple = M.triple_intersection()\n",
    "triple"
   ]
  },
  {
   "cell_type": "markdown",
   "metadata": {},
   "source": [
    "we find Kollar divisors with"
   ]
  },
  {
   "cell_type": "code",
   "execution_count": 7,
   "metadata": {},
   "outputs": [
    {
     "name": "stdout",
     "output_type": "stream",
     "text": [
      "Help on method find_kollar in module __main__:\n",
      "\n",
      "find_kollar(triangulation=[], r_coeff=-1) method of __main__.fiberpolytope instance\n",
      "    Finds Kollar divisors with positive coefficients for the \n",
      "    generator of the Kähler cone. Only works for 3-folds.\n",
      "    \n",
      "    \n",
      "    \n",
      "    Parameters\n",
      "    ----------\n",
      "    triangulation : sage.triangulation\n",
      "        use the internal points to not mess with notation, by default []\n",
      "    r_coeff : int, optional\n",
      "        range of coefficients, by default -1 \n",
      "        (if -1 only checks the J divisors spanning the Kähler cone)\n",
      "    \n",
      "    Returns\n",
      "    -------\n",
      "    list/arrays[int]\n",
      "        list of divisors satisfying Kollar criteria.\n",
      "\n"
     ]
    }
   ],
   "source": [
    "help(M.find_kollar)"
   ]
  },
  {
   "cell_type": "code",
   "execution_count": 8,
   "metadata": {},
   "outputs": [
    {
     "name": "stderr",
     "output_type": "stream",
     "text": [
      "fiberpolytope:INFO:The following divisors satisfy the three necessary Kollar conditions:\n",
      " [[x6], [x5], [2*x5 + x7]]\n"
     ]
    },
    {
     "data": {
      "text/plain": [
       "[[x6], [x5], [2*x5 + x7]]"
      ]
     },
     "execution_count": 8,
     "metadata": {},
     "output_type": "execute_result"
    }
   ],
   "source": [
    "Kollar = M.find_kollar()\n",
    "Kollar"
   ]
  },
  {
   "cell_type": "markdown",
   "metadata": {},
   "source": [
    "```python\n",
    "M.find_kollar()\n",
    "```\n",
    "\n",
    "uses the function \n",
    "\n",
    "```python\n",
    "M.is_kollar(divisor)\n",
    "```\n",
    "\n",
    "under the hood and considers sums of the generators of Kähler cone. These can be accessed by"
   ]
  },
  {
   "cell_type": "code",
   "execution_count": 9,
   "metadata": {},
   "outputs": [
    {
     "data": {
      "text/plain": [
       "[[x6], [x5], [2*x5 + x7]]"
      ]
     },
     "execution_count": 9,
     "metadata": {},
     "output_type": "execute_result"
    }
   ],
   "source": [
    "M.J"
   ]
  },
  {
   "cell_type": "code",
   "execution_count": 10,
   "metadata": {},
   "outputs": [
    {
     "name": "stdout",
     "output_type": "stream",
     "text": [
      "True\n",
      "True\n",
      "True\n"
     ]
    }
   ],
   "source": [
    "for d in M.J:\n",
    "    print(M.is_kollar(d))"
   ]
  },
  {
   "cell_type": "markdown",
   "metadata": {},
   "source": [
    "we can also study enhancement [diagrams (1910.02963)](https://arxiv.org/abs/1910.02963)."
   ]
  },
  {
   "cell_type": "code",
   "execution_count": 11,
   "metadata": {},
   "outputs": [
    {
     "name": "stdout",
     "output_type": "stream",
     "text": [
      "Help on method enhancement_diagram in module __main__:\n",
      "\n",
      "enhancement_diagram(triple, fname, alpha=0.500000000000000) method of __main__.fiberpolytope instance\n",
      "    Computes enhancement diagramm as in 1910.02963.\n",
      "    \n",
      "    Parameters\n",
      "    ----------\n",
      "    triple : np.array(len(M.J), len(M.J), len(M.J))\n",
      "        triple intersection number of current triangulation\n",
      "    fname : str\n",
      "        file name to save figure to. Use .png as matplolib .pdf is having issues with sage constants\n",
      "    alpha : float, optional\n",
      "        alpha value of connecting lines, by default 0.5\n",
      "    \n",
      "    Returns\n",
      "    -------\n",
      "    matplotlib.pyplot.ax\n",
      "        plot of the enhancement diagram.\n",
      "\n"
     ]
    }
   ],
   "source": [
    "help(M.enhancement_diagram)"
   ]
  },
  {
   "cell_type": "markdown",
   "metadata": {},
   "source": [
    "```python\n",
    "M.enhancement_diagram(triple, fname)\n",
    "```\n",
    "requires the triple intersection numbers and a filename (Note: *fname* has to be .png as there appear to be some issues with sage int types and .pdf). "
   ]
  },
  {
   "cell_type": "code",
   "execution_count": 12,
   "metadata": {},
   "outputs": [
    {
     "data": {
      "text/plain": [
       "<matplotlib.axes._subplots.AxesSubplot object at 0x7f0e41c97e80>"
      ]
     },
     "execution_count": 12,
     "metadata": {},
     "output_type": "execute_result"
    },
    {
     "data": {
      "image/png": "[encoded data removed]",
      "text/plain": [
       "<Figure size 72x216 with 1 Axes>"
      ]
     },
     "metadata": {},
     "output_type": "display_data"
    }
   ],
   "source": [
    "M.enhancement_diagram(triple, 'enhancement_F2.png')"
   ]
  },
  {
   "cell_type": "markdown",
   "metadata": {},
   "source": [
    "## More complicated example\n",
    "\n",
    "In this section we consider a more complicated example."
   ]
  },
  {
   "cell_type": "code",
   "execution_count": 13,
   "metadata": {},
   "outputs": [],
   "source": [
    "vertices=[[1, 0, 0, 0], [0, 1, 0, 0], [0, 0, 1, 0], [0, 0, 1, 2], [-1, 1, -1, -1], [1, -1, -1, -1], [-1, -1, -1, 0]]"
   ]
  },
  {
   "cell_type": "code",
   "execution_count": 14,
   "metadata": {},
   "outputs": [],
   "source": [
    "X = fiberpolytope(vertices)"
   ]
  },
  {
   "cell_type": "code",
   "execution_count": 15,
   "metadata": {},
   "outputs": [
    {
     "data": {
      "text/plain": [
       "5"
      ]
     },
     "execution_count": 15,
     "metadata": {},
     "output_type": "execute_result"
    }
   ],
   "source": [
    "X.h11"
   ]
  },
  {
   "cell_type": "markdown",
   "metadata": {},
   "source": [
    "Are there any 2d subpolytopes?"
   ]
  },
  {
   "cell_type": "code",
   "execution_count": 16,
   "metadata": {},
   "outputs": [
    {
     "data": {
      "text/plain": [
       "[array([[ 0,  0,  1,  0],\n",
       "        [ 0,  0,  1,  2],\n",
       "        [ 0,  0, -1, -1],\n",
       "        [ 0,  0,  0,  0],\n",
       "        [ 0,  0,  1,  1]]), array([[-1,  1, -1, -1],\n",
       "        [ 1, -1, -1, -1],\n",
       "        [ 0,  0, -1, -1],\n",
       "        [ 0,  0,  0,  0],\n",
       "        [ 0,  0,  1,  1]])]"
      ]
     },
     "execution_count": 16,
     "metadata": {},
     "output_type": "execute_result"
    }
   ],
   "source": [
    "X.find_subpolytopes()"
   ]
  },
  {
   "cell_type": "markdown",
   "metadata": {},
   "source": [
    "what if we want to study a specific triangulation in particular?"
   ]
  },
  {
   "cell_type": "code",
   "execution_count": 17,
   "metadata": {},
   "outputs": [],
   "source": [
    "all_t = X.PC.triangulations_list()"
   ]
  },
  {
   "cell_type": "markdown",
   "metadata": {},
   "source": [
    "pick a specific triangulation"
   ]
  },
  {
   "cell_type": "code",
   "execution_count": 18,
   "metadata": {},
   "outputs": [
    {
     "data": {
      "text/plain": [
       "(<0,1,2,7,8>, <0,1,2,8,9>, <0,1,3,7,8>, <0,1,3,8,9>, <0,2,5,7,8>, <0,2,5,8,9>, <0,3,5,7,8>, <0,3,5,8,9>, <1,2,4,7,8>, <1,2,4,8,9>, <1,3,4,7,8>, <1,3,4,8,9>, <2,4,6,7,8>, <2,4,6,8,9>, <2,5,6,7,8>, <2,5,6,8,9>, <3,4,6,7,8>, <3,4,6,8,9>, <3,5,6,7,8>, <3,5,6,8,9>)"
      ]
     },
     "execution_count": 18,
     "metadata": {},
     "output_type": "execute_result"
    }
   ],
   "source": [
    "all_t[1]"
   ]
  },
  {
   "cell_type": "code",
   "execution_count": 19,
   "metadata": {},
   "outputs": [
    {
     "name": "stderr",
     "output_type": "stream",
     "text": [
      "fiberpolytope:WARNING:TV is not smooth.\n"
     ]
    }
   ],
   "source": [
    "X.set_triangulation(all_t[1])"
   ]
  },
  {
   "cell_type": "markdown",
   "metadata": {},
   "source": [
    "Check the Kähler cone"
   ]
  },
  {
   "cell_type": "code",
   "execution_count": 20,
   "metadata": {},
   "outputs": [
    {
     "data": {
      "text/plain": [
       "[[1/2*x5 + 1/2*x6 + x7 + 1/2*x8 - 1/2*x9],\n",
       " [x5 + x6 + x7],\n",
       " [x6 + x7],\n",
       " [x7],\n",
       " [x5 + x6 + 2*x7 + x8],\n",
       " [x5 + x7]]"
      ]
     },
     "execution_count": 20,
     "metadata": {},
     "output_type": "execute_result"
    }
   ],
   "source": [
    "X.J"
   ]
  },
  {
   "cell_type": "markdown",
   "metadata": {},
   "source": [
    "which turns out to be non simplicial. We can compute the triple intersection numbers"
   ]
  },
  {
   "cell_type": "code",
   "execution_count": 21,
   "metadata": {},
   "outputs": [
    {
     "data": {
      "text/plain": [
       "array([[[ 0,  2,  1,  0,  2,  1],\n",
       "        [ 2,  2,  2,  2,  8,  2],\n",
       "        [ 1,  2,  1,  1,  5,  2],\n",
       "        [ 0,  2,  1,  0,  2,  1],\n",
       "        [ 2,  8,  5,  2, 10,  5],\n",
       "        [ 1,  2,  2,  1,  5,  1]],\n",
       "\n",
       "       [[ 2,  2,  2,  2,  8,  2],\n",
       "        [ 2,  0,  0,  0,  4,  0],\n",
       "        [ 2,  0,  0,  0,  4,  0],\n",
       "        [ 2,  0,  0,  0,  4,  0],\n",
       "        [ 8,  4,  4,  4, 16,  4],\n",
       "        [ 2,  0,  0,  0,  4,  0]],\n",
       "\n",
       "       [[ 1,  2,  1,  1,  5,  2],\n",
       "        [ 2,  0,  0,  0,  4,  0],\n",
       "        [ 1,  0,  0,  0,  2,  0],\n",
       "        [ 1,  0,  0,  0,  2,  0],\n",
       "        [ 5,  4,  2,  2, 10,  4],\n",
       "        [ 2,  0,  0,  0,  4,  0]],\n",
       "\n",
       "       [[ 0,  2,  1,  0,  2,  1],\n",
       "        [ 2,  0,  0,  0,  4,  0],\n",
       "        [ 1,  0,  0,  0,  2,  0],\n",
       "        [ 0,  0,  0,  0,  0,  0],\n",
       "        [ 2,  4,  2,  0,  4,  2],\n",
       "        [ 1,  0,  0,  0,  2,  0]],\n",
       "\n",
       "       [[ 2,  8,  5,  2, 10,  5],\n",
       "        [ 8,  4,  4,  4, 16,  4],\n",
       "        [ 5,  4,  2,  2, 10,  4],\n",
       "        [ 2,  4,  2,  0,  4,  2],\n",
       "        [10, 16, 10,  4, 20, 10],\n",
       "        [ 5,  4,  4,  2, 10,  2]],\n",
       "\n",
       "       [[ 1,  2,  2,  1,  5,  1],\n",
       "        [ 2,  0,  0,  0,  4,  0],\n",
       "        [ 2,  0,  0,  0,  4,  0],\n",
       "        [ 1,  0,  0,  0,  2,  0],\n",
       "        [ 5,  4,  4,  2, 10,  2],\n",
       "        [ 1,  0,  0,  0,  2,  0]]], dtype=int32)"
      ]
     },
     "execution_count": 21,
     "metadata": {},
     "output_type": "execute_result"
    }
   ],
   "source": [
    "triple = X.triple_intersection()\n",
    "triple"
   ]
  },
  {
   "cell_type": "markdown",
   "metadata": {},
   "source": [
    "and find Kollar divisors"
   ]
  },
  {
   "cell_type": "code",
   "execution_count": 22,
   "metadata": {},
   "outputs": [
    {
     "name": "stderr",
     "output_type": "stream",
     "text": [
      "fiberpolytope:INFO:The following divisors satisfy the three necessary Kollar conditions:\n",
      " [[1/2*x5 + 1/2*x6 + x7 + 1/2*x8 - 1/2*x9], [x5 + x6 + x7], [x6 + x7], [x7], [x5 + x7]]\n"
     ]
    },
    {
     "data": {
      "text/plain": [
       "[[1/2*x5 + 1/2*x6 + x7 + 1/2*x8 - 1/2*x9],\n",
       " [x5 + x6 + x7],\n",
       " [x6 + x7],\n",
       " [x7],\n",
       " [x5 + x7]]"
      ]
     },
     "execution_count": 22,
     "metadata": {},
     "output_type": "execute_result"
    }
   ],
   "source": [
    "Kollar = X.find_kollar()\n",
    "Kollar"
   ]
  },
  {
   "cell_type": "markdown",
   "metadata": {},
   "source": [
    "How many of these are actually distinct?"
   ]
  },
  {
   "cell_type": "code",
   "execution_count": 23,
   "metadata": {},
   "outputs": [
    {
     "name": "stdout",
     "output_type": "stream",
     "text": [
      "True\n",
      "[1/2*x5 + 1/2*x6 + x7 + 1/2*x8 - 1/2*x9] [0, 2, 1, 0, 2, 1]\n",
      "True\n",
      "[x5 + x6 + x7] [2, 0, 0, 0, 4, 0]\n",
      "True\n",
      "[x6 + x7] [1, 0, 0, 0, 2, 0]\n",
      "True\n",
      "[x7] [0, 0, 0, 0, 0, 0]\n",
      "True\n",
      "[x5 + x7] [1, 0, 0, 0, 2, 0]\n"
     ]
    }
   ],
   "source": [
    "for d in Kollar:\n",
    "    # double check\n",
    "    print(X.is_kollar(d))\n",
    "    # compute intersection numbers:\n",
    "    intersections = []\n",
    "    for j in X.J:\n",
    "        intersections += [X.TV.integrate(X.c1*d*d*j)]\n",
    "    print(d, intersections)"
   ]
  },
  {
   "cell_type": "markdown",
   "metadata": {},
   "source": [
    "1. There appear to be only two linear independet intersection numbers \n",
    "    1. [0, 2, 1, 0, 2, 1]\n",
    "    2. [1, 0, 0, 0, 2, 0].\n",
    "2. [x7] corresponds to a K3 fibration.\n",
    "3. This is in line with the observations of two distinct 2d subpolytopes.\n",
    "\n",
    "Let's and make an enhancement diagram and study the fibrations from that perspective:"
   ]
  },
  {
   "cell_type": "code",
   "execution_count": 24,
   "metadata": {},
   "outputs": [
    {
     "data": {
      "text/plain": [
       "<matplotlib.axes._subplots.AxesSubplot object at 0x7f0e3fadccc0>"
      ]
     },
     "execution_count": 24,
     "metadata": {},
     "output_type": "execute_result"
    },
    {
     "data": {
      "image/png": "[encoded data removed]",
      "text/plain": [
       "<Figure size 720x360 with 1 Axes>"
      ]
     },
     "metadata": {},
     "output_type": "display_data"
    }
   ],
   "source": [
    "X.enhancement_diagram(triple, 'enhancement_h11=5.png')"
   ]
  }
 ],
 "metadata": {
  "kernelspec": {
   "display_name": "SageMath 9.0",
   "language": "sage",
   "name": "sagemath"
  },
  "language_info": {
   "codemirror_mode": {
    "name": "ipython",
    "version": 3
   },
   "file_extension": ".py",
   "mimetype": "text/x-python",
   "name": "python",
   "nbconvert_exporter": "python",
   "pygments_lexer": "ipython3",
   "version": "3.7.3"
  }
 },
 "nbformat": 4,
 "nbformat_minor": 2
}
