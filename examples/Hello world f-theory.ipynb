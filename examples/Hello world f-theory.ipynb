{
 "cells": [
  {
   "cell_type": "markdown",
   "metadata": {},
   "source": [
    "# Tutorial - F-theory compactification\n",
    "\n",
    "In this tutorial we utilize some of fiber-polytope routines to study F-theory compactifications.\n",
    "\n",
    "First we import the package.\n",
    "\n",
    "If installed with pip use the first line if you want to use the .sage file directly, e.g. when using in the cloud use the second line."
   ]
  },
  {
   "cell_type": "code",
   "execution_count": 1,
   "metadata": {},
   "outputs": [],
   "source": [
    "#from fiberpolytope import fiberpolytope\n",
    "load('fiberpolytope.sage')"
   ]
  },
  {
   "cell_type": "markdown",
   "metadata": {},
   "source": [
    "## K3\n",
    "\n",
    "Lets take some vertices defining a K3 manifold"
   ]
  },
  {
   "cell_type": "code",
   "execution_count": 2,
   "metadata": {},
   "outputs": [],
   "source": [
    "vertices = [[0,0,0], [-1,-1,0],[-1,0,0],[0,-1,0],[1,-1,0],[0,0,1],\n",
    "            [0,1,0],[0,1,1],[1,0,1],[1,1,1],[2,0,1],[1,1,2],[2,1,2],[0,0,-1]]"
   ]
  },
  {
   "cell_type": "markdown",
   "metadata": {},
   "source": [
    "We feed them into the fiberpolytope"
   ]
  },
  {
   "cell_type": "code",
   "execution_count": 3,
   "metadata": {},
   "outputs": [],
   "source": [
    "M = fiberpolytope(vertices)"
   ]
  },
  {
   "cell_type": "markdown",
   "metadata": {},
   "source": [
    "The fiberpolytope contains all functions of the sage polytope class. They are accessed via \n",
    "\n",
    "```python\n",
    "M.polytope.function(). \n",
    "```\n",
    "\n",
    "We can check reflexivity, hodge number, ... . Note, the package will complain, if you give it a non \n",
    "reflexive polytope."
   ]
  },
  {
   "cell_type": "code",
   "execution_count": 4,
   "metadata": {},
   "outputs": [
    {
     "data": {
      "text/plain": [
       "True"
      ]
     },
     "execution_count": 4,
     "metadata": {},
     "output_type": "execute_result"
    }
   ],
   "source": [
    "# is reflexive?\n",
    "M.polytope.is_reflexive()"
   ]
  },
  {
   "cell_type": "markdown",
   "metadata": {},
   "source": [
    "What about picard group (hodge numbers, ...) using PALP of the polytope and its mirror?"
   ]
  },
  {
   "cell_type": "code",
   "execution_count": 5,
   "metadata": {},
   "outputs": [
    {
     "name": "stdout",
     "output_type": "stream",
     "text": [
      "M:15 9 N:14 9 Pic:10 Cor:1\n",
      "\n",
      "M:14 9 N:15 9 Pic:11 Cor:1\n",
      "\n"
     ]
    }
   ],
   "source": [
    "# hodge numbers\n",
    "print(M.polytope.poly_x(\"g\"))\n",
    "# polar hodge numbers\n",
    "print(M.polytope.polar().poly_x(\"g\"))"
   ]
  },
  {
   "cell_type": "markdown",
   "metadata": {},
   "source": [
    "Lets have a look at all the points in the polytope. Sage adds all interior vertices even if they haven't been explicitly specified. Furthermore it also changes the order."
   ]
  },
  {
   "cell_type": "code",
   "execution_count": 6,
   "metadata": {},
   "outputs": [
    {
     "data": {
      "text/plain": [
       "M(-1, -1,  0),\n",
       "M(-1,  0,  0),\n",
       "M( 2,  1,  2),\n",
       "M( 0,  0, -1),\n",
       "M( 2,  0,  1),\n",
       "M( 1,  1,  2),\n",
       "M( 0,  1,  0),\n",
       "M( 0,  1,  1),\n",
       "M( 1, -1,  0),\n",
       "M( 1,  0,  0),\n",
       "M( 1,  1,  1),\n",
       "M( 1,  0,  1),\n",
       "M( 0,  0,  0),\n",
       "M( 0, -1,  0),\n",
       "M( 0,  0,  1)\n",
       "in 3-d lattice M"
      ]
     },
     "execution_count": 6,
     "metadata": {},
     "output_type": "execute_result"
    }
   ],
   "source": [
    "M.polytope.points()"
   ]
  },
  {
   "cell_type": "markdown",
   "metadata": {},
   "source": [
    "What we are really interested in are fibrations. So lets search for them."
   ]
  },
  {
   "cell_type": "code",
   "execution_count": 7,
   "metadata": {},
   "outputs": [
    {
     "data": {
      "text/plain": [
       "{'cubic': [(array([ 0,  3, 10]), array([], dtype=float64)),\n",
       "  (array([0, 6, 9]), array([ 2,  3,  4,  5,  7, 10, 11])),\n",
       "  (array([ 1,  3, 11]), array([ 0,  2,  5,  6,  7,  8, 10, 13])),\n",
       "  (array([1, 6, 8]), array([ 2,  3,  4,  5,  7, 10, 11])),\n",
       "  (array([ 3,  7, 12]), array([ 0,  1,  2,  4,  5,  8,  9, 10, 11]))],\n",
       " 'P1xP1': [(array([[ 1,  9],\n",
       "          [ 3, 13]]), array([ 0,  2,  4,  5,  6,  7, 10, 11])),\n",
       "  (array([[ 1,  9],\n",
       "          [ 6, 12]]), array([ 0,  2,  4,  5,  7,  8, 10, 11, 13])),\n",
       "  (array([[ 3, 13],\n",
       "          [ 1,  9]]), array([ 0,  2,  4,  5,  6,  7, 10, 11])),\n",
       "  (array([[ 3, 13],\n",
       "          [ 6, 12]]), array([ 0,  1,  2,  4,  5,  7,  8,  9, 10, 11])),\n",
       "  (array([[ 6, 12],\n",
       "          [ 1,  9]]), array([ 0,  2,  4,  5,  7,  8, 10, 11, 13])),\n",
       "  (array([[ 6, 12],\n",
       "          [ 3, 13]]), array([ 0,  1,  2,  4,  5,  7,  8,  9, 10, 11]))],\n",
       " 'P112': [(array([ 0,  5,  3, 13]), array([], dtype=float64)),\n",
       "  (array([ 0,  8,  6, 12]), array([ 2,  3,  4,  5,  7, 10, 11])),\n",
       "  (array([3, 4, 1, 9]), array([ 0,  2,  5,  6,  7,  8, 10, 13])),\n",
       "  (array([4, 3, 1, 9]), array([ 0,  2,  5,  6,  7,  8, 10, 13])),\n",
       "  (array([ 5,  0,  3, 13]), array([], dtype=float64)),\n",
       "  (array([ 8,  0,  6, 12]), array([ 2,  3,  4,  5,  7, 10, 11]))]}"
      ]
     },
     "execution_count": 7,
     "metadata": {},
     "output_type": "execute_result"
    }
   ],
   "source": [
    "M.find_fibrations()"
   ]
  },
  {
   "cell_type": "markdown",
   "metadata": {},
   "source": [
    "How do we have to interpret these results? \n",
    "\n",
    "*fiperpolytope* returns a dictionary of possible P112, P1xP1 and cubic fibrations. \n",
    "Each entry ('cubic', ..) contains a list of tuples, where the first element denotes the indices of fiber coordinates and the second element the indices of base coordinates under a 'trivial' projection. With trivial projection we mean projection onto the zeros of the fibration coordinates.\n",
    "\n",
    "There are a few things to note, first base and fibration indices do not necessarily include all variables. Missing variables that project onto the origin are blow ups of the fibration ambient space.\n",
    "\n",
    "Second, it currently only (reliably) works with trivial projections.\n",
    "\n",
    "Generally, you can always find some information about any kind of function by using the help function."
   ]
  },
  {
   "cell_type": "code",
   "execution_count": 8,
   "metadata": {},
   "outputs": [
    {
     "name": "stdout",
     "output_type": "stream",
     "text": [
      "Help on method find_fibrations in module __main__:\n",
      "\n",
      "find_fibrations(symbolic_output=False) method of __main__.fiberpolytope instance\n",
      "    Finds fibrations and a possible set of suitable base coordinates.\n",
      "    \n",
      "    The ambient fibration coordinates are found by studying \n",
      "    the defining CY surface and its monomial degrees.\n",
      "    \n",
      "    The potential base coordinates are found by looking for all\n",
      "    rays with non trivial charges in the direction\n",
      "     with trivial entries for the fiber coordinates.\n",
      "    \n",
      "    Parameters\n",
      "    ----------\n",
      "    sybolic_output : bool, optional\n",
      "        If True: return a symbolic dictionary. IMPLEMENT THIS\n",
      "        \n",
      "    Returns\n",
      "    -------\n",
      "    dict{'cubic': list, 'P1xP1': list, 'P112': list}\n",
      "        A dictionary with a list of tuples of np.arrays.\n",
      "        Each tuple consists of \n",
      "        (fibration_ambient_coordinates, suitable base spaces)\n",
      "\n"
     ]
    }
   ],
   "source": [
    "help(M.find_fibrations)"
   ]
  },
  {
   "cell_type": "markdown",
   "metadata": {},
   "source": [
    "# CY3 Example\n",
    "\n",
    "What we are really interested in are compactifications to six or four dimensions. Next, we will look at some simple threefold compactification to six dimensions.\n",
    "\n",
    "Take the following vertices."
   ]
  },
  {
   "cell_type": "code",
   "execution_count": 9,
   "metadata": {},
   "outputs": [],
   "source": [
    "vertices2 = [  [-1, -1, 0, 0], [-1, 0, 0, 0], [0, -1, 0, 0], [1, -1, 0, 0], [0, 1,\n",
    "   0, 0], [0, 0, 1, 0],  [0, 1, 1, 0], [1, 0, 1, 0], [1, 1, 1, 0], [2,\n",
    "   0, 1, 0], [1, 1, 2, 0], [2, 1, 2, 0], [-1, 0, -1, -1], [0, 0, 0, \n",
    "  1]]"
   ]
  },
  {
   "cell_type": "code",
   "execution_count": 10,
   "metadata": {},
   "outputs": [],
   "source": [
    "X = fiberpolytope(vertices2)"
   ]
  },
  {
   "cell_type": "markdown",
   "metadata": {},
   "source": [
    "Check some basic properties of this polytope:"
   ]
  },
  {
   "cell_type": "code",
   "execution_count": 11,
   "metadata": {},
   "outputs": [
    {
     "data": {
      "text/plain": [
       "True"
      ]
     },
     "execution_count": 11,
     "metadata": {},
     "output_type": "execute_result"
    }
   ],
   "source": [
    "X.polytope.is_reflexive()"
   ]
  },
  {
   "cell_type": "code",
   "execution_count": 12,
   "metadata": {},
   "outputs": [
    {
     "data": {
      "text/plain": [
       "'M:15 10 N:46 16 H:38,12 [52]\\n'"
      ]
     },
     "execution_count": 12,
     "metadata": {},
     "output_type": "execute_result"
    }
   ],
   "source": [
    "X.polytope.poly_x(\"g\")"
   ]
  },
  {
   "cell_type": "markdown",
   "metadata": {},
   "source": [
    "Again, we find that sage changes the order internally, when checking for missing rays. We find all the points by"
   ]
  },
  {
   "cell_type": "code",
   "execution_count": 13,
   "metadata": {},
   "outputs": [
    {
     "data": {
      "text/plain": [
       "M(-1, -1,  0,  0),\n",
       "M(-1,  0, -1, -1),\n",
       "M(-1,  0,  0,  0),\n",
       "M( 2,  1,  2,  0),\n",
       "M( 0,  0,  0,  1),\n",
       "M( 1,  1,  2,  0),\n",
       "M( 0,  1,  0,  0),\n",
       "M( 0,  1,  1,  0),\n",
       "M( 1, -1,  0,  0),\n",
       "M( 2,  0,  1,  0),\n",
       "M( 1,  1,  1,  0),\n",
       "M( 0,  0,  1,  0),\n",
       "M( 1,  0,  1,  0),\n",
       "M( 0,  0,  0,  0),\n",
       "M( 0, -1,  0,  0)\n",
       "in 4-d lattice M"
      ]
     },
     "execution_count": 13,
     "metadata": {},
     "output_type": "execute_result"
    }
   ],
   "source": [
    "X.polytope.points()"
   ]
  },
  {
   "cell_type": "markdown",
   "metadata": {},
   "source": [
    "Or as a numpy array to work with."
   ]
  },
  {
   "cell_type": "code",
   "execution_count": 14,
   "metadata": {},
   "outputs": [
    {
     "data": {
      "text/plain": [
       "array([[-1, -1,  0,  0],\n",
       "       [-1,  0, -1, -1],\n",
       "       [-1,  0,  0,  0],\n",
       "       [ 2,  1,  2,  0],\n",
       "       [ 0,  0,  0,  1],\n",
       "       [ 1,  1,  2,  0],\n",
       "       [ 0,  1,  0,  0],\n",
       "       [ 0,  1,  1,  0],\n",
       "       [ 1, -1,  0,  0],\n",
       "       [ 2,  0,  1,  0],\n",
       "       [ 1,  1,  1,  0],\n",
       "       [ 0,  0,  1,  0],\n",
       "       [ 1,  0,  1,  0],\n",
       "       [ 0,  0,  0,  0],\n",
       "       [ 0, -1,  0,  0]])"
      ]
     },
     "execution_count": 14,
     "metadata": {},
     "output_type": "execute_result"
    }
   ],
   "source": [
    "X.p_array"
   ]
  },
  {
   "cell_type": "markdown",
   "metadata": {},
   "source": [
    "Lets look for fibrations."
   ]
  },
  {
   "cell_type": "code",
   "execution_count": 15,
   "metadata": {},
   "outputs": [
    {
     "data": {
      "text/plain": [
       "{'cubic': [(array([ 1,  4, 12]), array([ 0,  3,  5,  6,  7,  8, 10])),\n",
       "  (array([2, 6, 8]), array([ 1,  3,  4,  5,  7,  9, 10, 11, 12]))],\n",
       " 'P1xP1': [],\n",
       " 'P112': [(array([ 0,  8,  6, 13]),\n",
       "   array([ 1,  3,  4,  5,  7,  9, 10, 11, 12])),\n",
       "  (array([ 8,  0,  6, 13]), array([ 1,  3,  4,  5,  7,  9, 10, 11, 12]))]}"
      ]
     },
     "execution_count": 15,
     "metadata": {},
     "output_type": "execute_result"
    }
   ],
   "source": [
    "fibrations = X.find_fibrations()\n",
    "fibrations"
   ]
  },
  {
   "cell_type": "markdown",
   "metadata": {},
   "source": [
    "We were not able to find any P1xP1 fibrations. However, we are able to bring the polynomial into two different cubic forms and one P112 form. The first cubic form is given by the vertices [1,4,12] and the second by [2,6,8]. \n",
    "\n",
    "Let us briefly see, to which vertices these indices belong to; starting with the first found cubic."
   ]
  },
  {
   "cell_type": "code",
   "execution_count": 16,
   "metadata": {},
   "outputs": [
    {
     "data": {
      "text/plain": [
       "M(-1, 0, -1, -1),\n",
       "M( 0, 0,  0,  1),\n",
       "M( 1, 0,  1,  0)\n",
       "in 4-d lattice M"
      ]
     },
     "execution_count": 16,
     "metadata": {},
     "output_type": "execute_result"
    }
   ],
   "source": [
    "fiber, base = fibrations['cubic'][0]\n",
    "X.polytope.points(fiber)"
   ]
  },
  {
   "cell_type": "markdown",
   "metadata": {},
   "source": [
    "while it probably is possible to work with these rays, we note, that the projection would only be trivial on the second coordinate. Thus, lets have a look at the other P2 ambient space."
   ]
  },
  {
   "cell_type": "code",
   "execution_count": 17,
   "metadata": {},
   "outputs": [
    {
     "data": {
      "text/plain": [
       "M(-1,  0, 0, 0),\n",
       "M( 0,  1, 0, 0),\n",
       "M( 1, -1, 0, 0)\n",
       "in 4-d lattice M"
      ]
     },
     "execution_count": 17,
     "metadata": {},
     "output_type": "execute_result"
    }
   ],
   "source": [
    "fiber, base = fibrations['cubic'][1]\n",
    "X.polytope.points(fiber)"
   ]
  },
  {
   "cell_type": "markdown",
   "metadata": {},
   "source": [
    "These vertices can be easily projected onto the last two coordinates, so let us continue with this cubic fibration."
   ]
  },
  {
   "cell_type": "code",
   "execution_count": 18,
   "metadata": {
    "scrolled": true
   },
   "outputs": [
    {
     "data": {
      "text/plain": [
       "M(-1, 0, -1, -1),\n",
       "M( 2, 1,  2,  0),\n",
       "M( 0, 0,  0,  1),\n",
       "M( 1, 1,  2,  0),\n",
       "M( 0, 1,  1,  0),\n",
       "M( 2, 0,  1,  0),\n",
       "M( 1, 1,  1,  0),\n",
       "M( 0, 0,  1,  0),\n",
       "M( 1, 0,  1,  0)\n",
       "in 4-d lattice M"
      ]
     },
     "execution_count": 18,
     "metadata": {},
     "output_type": "execute_result"
    }
   ],
   "source": [
    "X.polytope.points(base)"
   ]
  },
  {
   "cell_type": "code",
   "execution_count": 19,
   "metadata": {},
   "outputs": [
    {
     "data": {
      "text/plain": [
       "[(x1, array([-1, -1,  0,  0])),\n",
       " (x2, array([-1,  0, -1, -1])),\n",
       " (x3, array([-1,  0,  0,  0])),\n",
       " (x4, array([2, 1, 2, 0])),\n",
       " (x5, array([0, 0, 0, 1])),\n",
       " (x6, array([1, 1, 2, 0])),\n",
       " (x7, array([0, 1, 0, 0])),\n",
       " (x8, array([0, 1, 1, 0])),\n",
       " (x9, array([ 1, -1,  0,  0])),\n",
       " (x10, array([2, 0, 1, 0])),\n",
       " (x11, array([1, 1, 1, 0])),\n",
       " (x12, array([0, 0, 1, 0])),\n",
       " (x13, array([1, 0, 1, 0])),\n",
       " (x14, array([ 0, -1,  0,  0]))]"
      ]
     },
     "execution_count": 19,
     "metadata": {},
     "output_type": "execute_result"
    }
   ],
   "source": [
    "X.vertices_to_variables()"
   ]
  },
  {
   "cell_type": "markdown",
   "metadata": {},
   "source": [
    "If we want to continue working with this fibration, we need to tell the fiberpolytope class."
   ]
  },
  {
   "cell_type": "code",
   "execution_count": 20,
   "metadata": {},
   "outputs": [
    {
     "name": "stderr",
     "output_type": "stream",
     "text": [
      "fiberpolytope:WARNING:There might be some warnings about division by zero, do not mind them. All is fine.\n",
      "/home/robin/Desktop/SageMath/local/lib/python3.7/site-packages/sage/repl/ipython_kernel/__main__.py:338: RuntimeWarning: invalid value encountered in subtract\n",
      "/home/robin/Desktop/SageMath/local/lib/python3.7/site-packages/sage/repl/ipython_kernel/__main__.py:324: RuntimeWarning: invalid value encountered in true_divide\n"
     ]
    }
   ],
   "source": [
    "X.set_fibration(fiber, base, 'cubic')\n",
    "#X.set_fibration(fiber, base, 'cubic', label=False)"
   ]
  },
  {
   "cell_type": "markdown",
   "metadata": {},
   "source": [
    "We note, that there are some warning. Don't worry about them, there is some division by zero in the background when relabeling the base variables. If you don't want the variables to be relabeled use the second line.\n",
    "\n",
    "Now that we have done that, we can check the new variable names with"
   ]
  },
  {
   "cell_type": "code",
   "execution_count": 21,
   "metadata": {},
   "outputs": [
    {
     "data": {
      "text/plain": [
       "[(e1, array([-1, -1,  0,  0])),\n",
       " (A10, array([-1,  0, -1, -1])),\n",
       " (u, array([-1,  0,  0,  0])),\n",
       " (C20, array([2, 1, 2, 0])),\n",
       " (B10, array([0, 0, 0, 1])),\n",
       " (C21, array([1, 1, 2, 0])),\n",
       " (v, array([0, 1, 0, 0])),\n",
       " (C10, array([0, 1, 1, 0])),\n",
       " (w, array([ 1, -1,  0,  0])),\n",
       " (C11, array([2, 0, 1, 0])),\n",
       " (C12, array([1, 1, 1, 0])),\n",
       " (C13, array([0, 0, 1, 0])),\n",
       " (C14, array([1, 0, 1, 0])),\n",
       " (e2, array([ 0, -1,  0,  0]))]"
      ]
     },
     "execution_count": 21,
     "metadata": {},
     "output_type": "execute_result"
    }
   ],
   "source": [
    "X.vertices_to_variables()"
   ]
  },
  {
   "cell_type": "markdown",
   "metadata": {},
   "source": [
    "or alternatively"
   ]
  },
  {
   "cell_type": "code",
   "execution_count": 22,
   "metadata": {},
   "outputs": [
    {
     "data": {
      "text/plain": [
       "[e1, A10, u, C20, B10, C21, v, C10, w, C11, C12, C13, C14, e2]"
      ]
     },
     "execution_count": 22,
     "metadata": {},
     "output_type": "execute_result"
    }
   ],
   "source": [
    "X.variables"
   ]
  },
  {
   "cell_type": "markdown",
   "metadata": {},
   "source": [
    "A few notes on the labeling of the coordinates can be found with help(X.label_base).\n",
    "1. We use capital letters to denote base variables. Each capital letter denotes some ray in the 2d base. The first index, denotes the multiplicity and the second counts how many rays we have of this type. \n",
    "\n",
    "Consider our current example: \n",
    "1. Take, C10, which projects onto (1,0) under the trivial projection onto the last two coordinates. Since (1,0) is a unit vector it has multiplicity 1, thus C1. Further, it is the first vertex of its type and thus gets count 0, C10.\n",
    "\n",
    "2. C20, projects onto (2,0) and thus comes with multiplicity 2."
   ]
  },
  {
   "cell_type": "markdown",
   "metadata": {},
   "source": [
    "The general cubic/surface equation in terms of polynomial coefficients s_i can be found via (Warning: only implemented for P2 fibrations)"
   ]
  },
  {
   "cell_type": "code",
   "execution_count": 23,
   "metadata": {},
   "outputs": [
    {
     "data": {
      "text/plain": [
       "e1^4*e2^2*s1*u^3 + e1^3*e2^2*s5*u^2*w + e1^2*e2^2*s8*u*w^2 + e1^2*e2*s2*u^2*v + e1*e2^2*s10*w^3 + e1*e2*s6*u*v*w + e2*s9*v*w^2 + s3*u*v^2"
      ]
     },
     "execution_count": 23,
     "metadata": {},
     "output_type": "execute_result"
    }
   ],
   "source": [
    "X.wsfmodel()"
   ]
  },
  {
   "cell_type": "markdown",
   "metadata": {},
   "source": [
    "Note, the additional e_i coordinates which are blow ups of the fiber ambient P2. Comparing with [1408.4808](https://arxiv.org/abs/1408.4808) we note that we are actually working with an F6 ambient space."
   ]
  },
  {
   "cell_type": "markdown",
   "metadata": {},
   "source": [
    "If we want to do some more serious computations, such as studying factorizations and looking at codimension two singularities and higher stuff, we will utilize singular. In order to use singular, we have to set a singular ring first:"
   ]
  },
  {
   "cell_type": "code",
   "execution_count": 24,
   "metadata": {},
   "outputs": [
    {
     "data": {
      "text/plain": [
       "polynomial ring, over a field, global ordering\n",
       "// coefficients: QQ(c0, c1, c2, c3, c4, c5, c6, c7, c8, c9, c10, c11, c12, c13, c14, c15, c16, c17, c18, c19, c20, c21, c22, c23, c24, c25, c26, c27, c28, c29, c30, c31, c32, c33, c34, c35, c36, c37, c38, c39, c40, c41, c42, c43, c44, c45)\n",
       "// number of vars : 14\n",
       "//        block   1 : ordering dp\n",
       "//                  : names    e1 A10 u C20 B10 C21 v C10 w C11 C12 C13 C14 e2\n",
       "//        block   2 : ordering C"
      ]
     },
     "execution_count": 24,
     "metadata": {},
     "output_type": "execute_result"
    }
   ],
   "source": [
    "X.set_singular_ring('c')"
   ]
  },
  {
   "cell_type": "code",
   "execution_count": 25,
   "metadata": {},
   "outputs": [
    {
     "data": {
      "text/plain": [
       "[(c9)*e1^4*C20^4*C21^6*C10^4*C11*C12^2*C13^5*C14^3*e2^2+(c12)*e1^4*A10*C20^2*C21^4*C10^3*C12*C13^4*C14^2*e2^2+(c13)*e1^4*C20^2*B10*C21^4*C10^3*C12*C13^4*C14^2*e2^2,\n",
       " (c28)*e1^2*C20^5*C21^6*C10^4*C11^2*C12^3*C13^4*C14^3*e2+(c29)*e1^2*A10*C20^3*C21^4*C10^3*C11*C12^2*C13^3*C14^2*e2+(c35)*e1^2*C20^3*B10*C21^4*C10^3*C11*C12^2*C13^3*C14^2*e2+(c30)*e1^2*A10^2*C20*C21^2*C10^2*C12*C13^2*C14*e2+(c36)*e1^2*A10*C20*B10*C21^2*C10^2*C12*C13^2*C14*e2+(c38)*e1^2*C20*B10^2*C21^2*C10^2*C12*C13^2*C14*e2,\n",
       " (c11)*C20^6*C21^6*C10^4*C11^3*C12^4*C13^3*C14^3+(c39)*A10*C20^4*C21^4*C10^3*C11^2*C12^3*C13^2*C14^2+(c41)*C20^4*B10*C21^4*C10^3*C11^2*C12^3*C13^2*C14^2+(c40)*A10^2*C20^2*C21^2*C10^2*C11*C12^2*C13*C14+(c42)*A10*C20^2*B10*C21^2*C10^2*C11*C12^2*C13*C14+(c44)*C20^2*B10^2*C21^2*C10^2*C11*C12^2*C13*C14+(c0)*A10^3*C10*C12+(c43)*A10^2*B10*C10*C12+(c45)*A10*B10^2*C10*C12+(c1)*B10^3*C10*C12,\n",
       " 0,\n",
       " (c18)*e1^3*C20^4*C21^5*C10^3*C11^2*C12^2*C13^4*C14^3*e2^2+(c19)*e1^3*A10*C20^2*C21^3*C10^2*C11*C12*C13^3*C14^2*e2^2+(c22)*e1^3*C20^2*B10*C21^3*C10^2*C11*C12*C13^3*C14^2*e2^2+(c4)*e1^3*A10^2*C21*C10*C13^2*C14*e2^2+(c23)*e1^3*A10*B10*C21*C10*C13^2*C14*e2^2+(c5)*e1^3*B10^2*C21*C10*C13^2*C14*e2^2,\n",
       " (c25)*e1*C20^5*C21^5*C10^3*C11^3*C12^3*C13^3*C14^3*e2+(c26)*e1*A10*C20^3*C21^3*C10^2*C11^2*C12^2*C13^2*C14^2*e2+(c33)*e1*C20^3*B10*C21^3*C10^2*C11^2*C12^2*C13^2*C14^2*e2+(c27)*e1*A10^2*C20*C21*C10*C11*C12*C13*C14*e2+(c34)*e1*A10*C20*B10*C21*C10*C11*C12*C13*C14*e2+(c37)*e1*C20*B10^2*C21*C10*C11*C12*C13*C14*e2,\n",
       " 0,\n",
       " (c16)*e1^2*C20^4*C21^4*C10^2*C11^3*C12^2*C13^3*C14^3*e2^2+(c17)*e1^2*A10*C20^2*C21^2*C10*C11^2*C12*C13^2*C14^2*e2^2+(c20)*e1^2*C20^2*B10*C21^2*C10*C11^2*C12*C13^2*C14^2*e2^2+(c3)*e1^2*A10^2*C11*C13*C14*e2^2+(c21)*e1^2*A10*B10*C11*C13*C14*e2^2+(c2)*e1^2*B10^2*C11*C13*C14*e2^2,\n",
       " (c10)*C20^5*C21^4*C10^2*C11^4*C12^3*C13^2*C14^3*e2+(c24)*A10*C20^3*C21^2*C10*C11^3*C12^2*C13*C14^2*e2+(c31)*C20^3*B10*C21^2*C10*C11^3*C12^2*C13*C14^2*e2+(c15)*A10^2*C20*C11^2*C12*C14*e2+(c32)*A10*C20*B10*C11^2*C12*C14*e2+(c14)*C20*B10^2*C11^2*C12*C14*e2,\n",
       " (c8)*e1*C20^4*C21^3*C10*C11^4*C12^2*C13^2*C14^3*e2^2+(c7)*e1*A10*C20^2*C21*C11^3*C12*C13*C14^2*e2^2+(c6)*e1*C20^2*B10*C21*C11^3*C12*C13*C14^2*e2^2]"
      ]
     },
     "execution_count": 25,
     "metadata": {},
     "output_type": "execute_result"
    }
   ],
   "source": [
    "s = X.find_s()\n",
    "s"
   ]
  },
  {
   "cell_type": "markdown",
   "metadata": {},
   "source": [
    "The function set_singular_ring() takes a parameter, by default 'd' which specifies with which coefficients and variables we want to work with. 'd' here means factorizations of the coefficients s_i into d_i. \n",
    "\n",
    "Other options are:\n",
    "\n",
    "    's' to work with s_i coefficients (boring). \n",
    "    \n",
    "    'c' to work with c_i complex moduli (will kill your memory when computing Delta)."
   ]
  },
  {
   "cell_type": "code",
   "execution_count": 26,
   "metadata": {},
   "outputs": [
    {
     "name": "stdout",
     "output_type": "stream",
     "text": [
      "Help on method set_singular_ring in module __main__:\n",
      "\n",
      "set_singular_ring(coeff='d') method of __main__.fiberpolytope instance\n",
      "    Specifies the singular ring.\n",
      "    This function needs to be called BEFORE doing any \n",
      "    symbolic calculations and AFTER specifying the active\n",
      "    fibration.\n",
      "    \n",
      "    Use coeff to specify the variables and coefficients you want \n",
      "    to work with.\n",
      "    \n",
      "    Options\n",
      "    -------\n",
      "    's': s_i coefficients\n",
      "    'd': refined (factorized) d_i coefficients\n",
      "    'dv': d coefficients are promoted to variables\n",
      "    'all': s_i, d_i are promoted to variables and c_i coeff\n",
      "    'c': c_i coefficients\n",
      "        Working with cmoduli is very Memory constraint and not recommended.\n",
      "    \n",
      "    Parameters\n",
      "    ----------\n",
      "    coeff : str , optional\n",
      "        Pick 's', 'd', 'dv', 'all' or 'c', default = 'c'.\n",
      "    \n",
      "    Returns\n",
      "    -------\n",
      "    singular_exprs\n",
      "        singular ring with nMonomial coefficients in\n",
      "        nVariables char=0 and default dp sorting.\n",
      "\n"
     ]
    }
   ],
   "source": [
    "help(X.set_singular_ring)"
   ]
  },
  {
   "cell_type": "code",
   "execution_count": 27,
   "metadata": {
    "scrolled": true
   },
   "outputs": [
    {
     "data": {
      "text/plain": [
       "polynomial ring, over a field, global ordering\n",
       "// coefficients: QQ(d1, d2, d3, d4, d5, d6, d7, d8, d9, d10)\n",
       "// number of vars : 14\n",
       "//        block   1 : ordering dp\n",
       "//                  : names    e1 A10 u C20 B10 C21 v C10 w C11 C12 C13 C14 e2\n",
       "//        block   2 : ordering C"
      ]
     },
     "execution_count": 27,
     "metadata": {},
     "output_type": "execute_result"
    }
   ],
   "source": [
    "X.set_singular_ring('d')"
   ]
  },
  {
   "cell_type": "markdown",
   "metadata": {},
   "source": [
    "We have a look at these factorizations by finding all the d_i's."
   ]
  },
  {
   "cell_type": "code",
   "execution_count": 28,
   "metadata": {},
   "outputs": [
    {
     "data": {
      "text/plain": [
       "[(d1)*e1^4*C20^2*C21^4*C10^3*C12*C13^4*C14^2*e2^2,\n",
       " (d2)*e1^2*C20*C21^2*C10^2*C12*C13^2*C14*e2,\n",
       " (d3)*C10*C12,\n",
       " 0,\n",
       " (d5)*e1^3*C21*C10*C13^2*C14*e2^2,\n",
       " (d6)*e1*C20*C21*C10*C11*C12*C13*C14*e2,\n",
       " 0,\n",
       " (d8)*e1^2*C11*C13*C14*e2^2,\n",
       " (d9)*C20*C11^2*C12*C14*e2,\n",
       " (d10)*e1*C20^2*C21*C11^3*C12*C13*C14^2*e2^2]"
      ]
     },
     "execution_count": 28,
     "metadata": {},
     "output_type": "execute_result"
    }
   ],
   "source": [
    "d = X.find_d()\n",
    "d"
   ]
  },
  {
   "cell_type": "markdown",
   "metadata": {},
   "source": [
    "Again, we reproduce the vanishing of some of the coefficients and their factorizations.\n",
    "\n",
    "However, what we are really interested in are f, g and Delta. In order to find f, g and Delta, we call \n",
    "\n",
    "```python\n",
    "M.find_f(coeff)\n",
    "```\n",
    "\n",
    "where coeff are the d_i (s_i) coefficients in the general cubic polynomial."
   ]
  },
  {
   "cell_type": "code",
   "execution_count": 29,
   "metadata": {},
   "outputs": [
    {
     "data": {
      "text/plain": [
       "[1]:\n",
       "   _[1]=-1/48\n",
       "   _[2]=e1\n",
       "   _[3]=C10\n",
       "   _[4]=C11\n",
       "   _[5]=C12\n",
       "   _[6]=C13\n",
       "   _[7]=(-48*d1*d3*d9^2+16*d2^2*d9^2+24*d2*d3*d6*d10-8*d2*d6^2*d9+d6^4)*C20^4*C21^4*C10^2*C11^2*C12^2*C13^2*C14^2+(-16*d2*d3*d8*d9-48*d3^2*d5*d10+24*d3*d5*d6*d9-8*d3*d6^2*d8)*C20^2*C21^2*C10*C11*C12*C13*C14+(16*d3^2*d8^2)\n",
       "   _[8]=C14\n",
       "   _[9]=e2\n",
       "[2]:\n",
       "   1,4,2,2,2,2,1,2,4"
      ]
     },
     "execution_count": 29,
     "metadata": {},
     "output_type": "execute_result"
    }
   ],
   "source": [
    "f = X.find_f(d)\n",
    "f.factorize()"
   ]
  },
  {
   "cell_type": "markdown",
   "metadata": {},
   "source": [
    "We find that f factorizes into many parts. \n",
    "\n",
    "1. The e_i coordinates come with a power of 4, however, since those are just blow ups in the fiber ambient space, we can safely ignore them. \n",
    "2. We can blow them down by setting them to 1 (more to that later).\n",
    "3. The base variables of type C1i appear with a power of 2. In fact the C1i are part of our SO(10).\n",
    "\n",
    "What about g?"
   ]
  },
  {
   "cell_type": "code",
   "execution_count": 30,
   "metadata": {},
   "outputs": [
    {
     "data": {
      "text/plain": [
       "[1]:\n",
       "   _[1]=-1/864\n",
       "   _[2]=e1\n",
       "   _[3]=C10\n",
       "   _[4]=C11\n",
       "   _[5]=C12\n",
       "   _[6]=C13\n",
       "   _[7]=(-288*d1*d2*d3*d9^3+864*d1*d3^3*d10^2-864*d1*d3^2*d6*d9*d10+72*d1*d3*d6^2*d9^2+64*d2^3*d9^3-216*d2^2*d3^2*d10^2+144*d2^2*d3*d6*d9*d10-48*d2^2*d6^2*d9^2-36*d2*d3*d6^3*d10+12*d2*d6^4*d9-d6^6)*C20^6*C21^6*C10^3*C11^3*C12^3*C13^3*C14^3+(576*d1*d3^2*d8*d9^2-96*d2^2*d3*d8*d9^2+144*d2*d3^2*d5*d9*d10+144*d2*d3^2*d6*d8*d10+144*d2*d3*d5*d6*d9^2-24*d2*d3*d6^2*d8*d9+72*d3^2*d5*d6^2*d10-36*d3*d5*d6^3*d9+12*d3*d6^4*d8)*C20^4*C21^4*C10^2*C11^2*C12^2*C13^2*C14^2+(-96*d2*d3^2*d8^2*d9-288*d3^3*d5*d8*d10-216*d3^2*d5^2*d9^2+144*d3^2*d5*d6*d8*d9-48*d3^2*d6^2*d8^2)*C20^2*C21^2*C10*C11*C12*C13*C14+(64*d3^3*d8^3)\n",
       "   _[8]=C14\n",
       "   _[9]=e2\n",
       "[2]:\n",
       "   1,6,3,3,3,3,1,3,6"
      ]
     },
     "execution_count": 30,
     "metadata": {},
     "output_type": "execute_result"
    }
   ],
   "source": [
    "g = X.find_g(d)\n",
    "g.factorize()"
   ]
  },
  {
   "cell_type": "markdown",
   "metadata": {},
   "source": [
    "Similarly we find for g a factorization in to ei and C1i with powers of 6 and 3. \n",
    "\n",
    "\n",
    "Next, we want to find the discriminant. Here, we can either give the function f and g from our previous results, or it uses the interally saved old results."
   ]
  },
  {
   "cell_type": "code",
   "execution_count": 31,
   "metadata": {},
   "outputs": [
    {
     "data": {
      "text/plain": [
       "[1]:\n",
       "   _[1]=(d3^2)/16\n",
       "   _[2]=e1\n",
       "   _[3]=C20\n",
       "   _[4]=C21\n",
       "   _[5]=C10\n",
       "   _[6]=C11\n",
       "   _[7]=C12\n",
       "   _[8]=C13\n",
       "   _[9]=(64*d1^3*d3*d9^6-16*d1^2*d2^2*d9^6-288*d1^2*d2*d3^2*d9^3*d10^2+192*d1^2*d2*d3*d6*d9^4*d10+8*d1^2*d2*d6^2*d9^5+432*d1^2*d3^4*d10^4-864*d1^2*d3^3*d6*d9*d10^3+504*d1^2*d3^2*d6^2*d9^2*d10^2-72*d1^2*d3*d6^3*d9^3*d10-d1^2*d6^4*d9^4+136*d1*d2^3*d3*d9^3*d10^2-48*d1*d2^3*d6*d9^4*d10-216*d1*d2^2*d3^3*d10^4+360*d1*d2^2*d3^2*d6*d9*d10^3-162*d1*d2^2*d3*d6^2*d9^2*d10^2+40*d1*d2^2*d6^3*d9^3*d10-36*d1*d2*d3^2*d6^3*d10^3+48*d1*d2*d3*d6^4*d9*d10^2-11*d1*d2*d6^5*d9^2*d10-d1*d3*d6^6*d10^2+d1*d6^7*d9*d10-16*d2^5*d9^3*d10^2+27*d2^4*d3^2*d10^4-36*d2^4*d3*d6*d9*d10^3+8*d2^4*d6^2*d9^2*d10^2+d2^3*d3*d6^3*d10^3-d2^3*d6^4*d9*d10^2)*C20^10*C21^10*C10^5*C11^5*C12^5*C13^5*C14^5+(-128*d1^2*d2*d3*d8*d9^5+576*d1^2*d3^3*d8*d9^2*d10^2+192*d1^2*d3^2*d5*d9^4*d10-576*d1^2*d3^2*d6*d8*d9^3*d10-96*d1^2*d3*d5*d6*d9^5+80*d1^2*d3*d6^2*d8*d9^4+32*d1*d2^3*d8*d9^5-240*d1*d2^2*d3^2*d8*d9^2*d10^2-176*d1*d2^2*d3*d5*d9^4*d10+80*d1*d2^2*d3*d6*d8*d9^3*d10+16*d1*d2^2*d5*d6*d9^5-32*d1*d2^2*d6^2*d8*d9^4+144*d1*d2*d3^3*d5*d9*d10^3+144*d1*d2*d3^3*d6*d8*d10^3-192*d1*d2*d3^2*d5*d6*d9^2*d10^2-168*d1*d2*d3^2*d6^2*d8*d9*d10^2+4*d1*d2*d3*d5*d6^2*d9^3*d10-20*d1*d2*d3*d6^3*d8*d9^2*d10-8*d1*d2*d5*d6^3*d9^4+10*d1*d2*d6^4*d8*d9^3+72*d1*d3^3*d5*d6^2*d10^3-108*d1*d3^2*d5*d6^3*d9*d10^2+12*d1*d3^2*d6^4*d8*d10^2+34*d1*d3*d5*d6^4*d9^2*d10-12*d1*d3*d6^5*d8*d9*d10+d1*d5*d6^5*d9^3-d1*d6^6*d8*d9^2+24*d2^4*d3*d8*d9^2*d10^2+32*d2^4*d5*d9^4*d10+16*d2^4*d6*d8*d9^3*d10-36*d2^3*d3^2*d5*d9*d10^3-36*d2^3*d3^2*d6*d8*d10^3+52*d2^3*d3*d5*d6*d9^2*d10^2+46*d2^3*d3*d6^2*d8*d9*d10^2-32*d2^3*d5*d6^2*d9^3*d10-8*d2^3*d6^3*d8*d9^2*d10+30*d2^2*d3^2*d5*d6^2*d10^3-41*d2^2*d3*d5*d6^3*d9*d10^2-d2^2*d3*d6^4*d8*d10^2+10*d2^2*d5*d6^4*d9^2*d10+d2^2*d6^5*d8*d9*d10+d2*d3*d5*d6^5*d10^2-d2*d5*d6^6*d9*d10)*C20^8*C21^8*C10^4*C11^4*C12^4*C13^4*C14^4+(128*d1^2*d3^2*d8^2*d9^4+32*d1*d2^2*d3*d8^2*d9^4-96*d1*d2*d3^3*d8^2*d9*d10^2+320*d1*d2*d3^2*d5*d8*d9^3*d10+256*d1*d2*d3^2*d6*d8^2*d9^2*d10+72*d1*d2*d3*d5^2*d9^5-16*d1*d2*d3*d5*d6*d8*d9^4-8*d1*d2*d3*d6^2*d8^2*d9^3-288*d1*d3^4*d5*d8*d10^3-24*d1*d3^3*d5^2*d9^2*d10^2+432*d1*d3^3*d5*d6*d8*d9*d10^2-48*d1*d3^3*d6^2*d8^2*d10^2+24*d1*d3^2*d5^2*d6*d9^3*d10-56*d1*d3^2*d5*d6^2*d8*d9^2*d10+48*d1*d3^2*d6^3*d8^2*d9*d10+30*d1*d3*d5^2*d6^2*d9^4-44*d1*d3*d5*d6^3*d8*d9^3+12*d1*d3*d6^4*d8^2*d9^2-16*d2^4*d8^2*d9^4+24*d2^3*d3^2*d8^2*d9*d10^2-80*d2^3*d3*d5*d8*d9^3*d10-64*d2^3*d3*d6*d8^2*d9^2*d10-16*d2^3*d5^2*d9^5+16*d2^3*d5*d6*d8*d9^4+8*d2^3*d6^2*d8^2*d9^3+72*d2^2*d3^3*d5*d8*d10^3+2*d2^2*d3^2*d5^2*d9^2*d10^2-124*d2^2*d3^2*d5*d6*d8*d9*d10^2+8*d2^2*d3^2*d6^2*d8^2*d10^2+52*d2^2*d3*d5^2*d6*d9^3*d10+84*d2^2*d3*d5*d6^2*d8*d9^2*d10-8*d2^2*d3*d6^3*d8^2*d9*d10+8*d2^2*d5^2*d6^2*d9^4-8*d2^2*d5*d6^3*d8*d9^3-d2^2*d6^4*d8^2*d9^2-96*d2*d3^3*d5^2*d6*d10^3+140*d2*d3^2*d5^2*d6^2*d9*d10^2-8*d2*d3^2*d5*d6^3*d8*d10^2-41*d2*d3*d5^2*d6^3*d9^2*d10+8*d2*d3*d5*d6^4*d8*d9*d10-d2*d5^2*d6^4*d9^3+d2*d5*d6^5*d8*d9^2-d3^2*d5^2*d6^4*d10^2+d3*d5^2*d6^5*d9*d10)*C20^6*C21^6*C10^3*C11^3*C12^3*C13^3*C14^3+(-128*d1*d2*d3^2*d8^3*d9^3+64*d1*d3^4*d8^3*d10^2-320*d1*d3^3*d5*d8^2*d9^2*d10-64*d1*d3^3*d6*d8^3*d9*d10-144*d1*d3^2*d5^2*d8*d9^4+160*d1*d3^2*d5*d6*d8^2*d9^3-48*d1*d3^2*d6^2*d8^3*d9^2+32*d2^3*d3*d8^3*d9^3-16*d2^2*d3^3*d8^3*d10^2+80*d2^2*d3^2*d5*d8^2*d9^2*d10+16*d2^2*d3^2*d6*d8^3*d9*d10+24*d2^2*d3*d5^2*d8*d9^4-64*d2^2*d3*d5*d6*d8^2*d9^3+8*d2^2*d3*d6^2*d8^3*d9^2+16*d2*d3^3*d5^2*d8*d9*d10^2+16*d2*d3^3*d5*d6*d8^2*d10^2-36*d2*d3^2*d5^3*d9^3*d10-124*d2*d3^2*d5^2*d6*d8*d9^2*d10-16*d2*d3^2*d5*d6^2*d8^2*d9*d10-36*d2*d3*d5^3*d6*d9^4+46*d2*d3*d5^2*d6^2*d8*d9^3-8*d2*d3*d5*d6^3*d8^2*d9^2+64*d3^4*d5^3*d10^3-96*d3^3*d5^3*d6*d9*d10^2+8*d3^3*d5^2*d6^2*d8*d10^2+30*d3^2*d5^3*d6^2*d9^2*d10-8*d3^2*d5^2*d6^3*d8*d9*d10+d3*d5^3*d6^3*d9^3-d3*d5^2*d6^4*d8*d9^2)*C20^4*C21^4*C10^2*C11^2*C12^2*C13^2*C14^2+(64*d1*d3^3*d8^4*d9^2-16*d2^2*d3^2*d8^4*d9^2+24*d2*d3^2*d5^2*d8^2*d9^3+16*d2*d3^2*d5*d6*d8^3*d9^2-16*d3^4*d5^2*d8^2*d10^2+72*d3^3*d5^3*d8*d9^2*d10+16*d3^3*d5^2*d6*d8^2*d9*d10+27*d3^2*d5^4*d9^4-36*d3^2*d5^3*d6*d8*d9^3+8*d3^2*d5^2*d6^2*d8^2*d9^2)*C20^2*C21^2*C10*C11*C12*C13*C14+(-16*d3^3*d5^2*d8^3*d9^2)\n",
       "   _[10]=C14\n",
       "   _[11]=e2\n",
       "[2]:\n",
       "   1,12,2,2,7,7,7,7,1,7,12"
      ]
     },
     "execution_count": 31,
     "metadata": {},
     "output_type": "execute_result"
    }
   ],
   "source": [
    "Delta = X.find_discriminant()\n",
    "Delta.factorize()"
   ]
  },
  {
   "cell_type": "markdown",
   "metadata": {},
   "source": [
    "1. We find for Delta a factorization in ei and C1i with powers of 12 and 7 respectively. \n",
    "2. Furthermore it also comes with power 2 of the C2i coordinates.\n",
    "\n",
    "Summarizing we found that the C1i come with power (2,3,7) which gives us a SO(10).\n",
    "\n",
    "3. Finally, delta also factorizes into the coefficient d3^2, see the first entry. "
   ]
  },
  {
   "cell_type": "markdown",
   "metadata": {},
   "source": [
    "Next, we want to find out what happens when d3 -> C10. We will use Singular for this. We define a polynomial in singular called 'Delta' which corresponds to the Delta we found before (with Delta.string())."
   ]
  },
  {
   "cell_type": "code",
   "execution_count": 32,
   "metadata": {},
   "outputs": [],
   "source": [
    "singular.clear('Delta_singular')\n",
    "singular.set('poly', 'Delta_singular', Delta.string())"
   ]
  },
  {
   "cell_type": "markdown",
   "metadata": {},
   "source": [
    "Then, we evaluate into Delta2, what happens when we substitute C10 into d3 in our polynomial description"
   ]
  },
  {
   "cell_type": "code",
   "execution_count": 33,
   "metadata": {},
   "outputs": [
    {
     "data": {
      "text/plain": [
       "[1]:\n",
       "   _[1]=1/16\n",
       "   _[2]=e1\n",
       "   _[3]=C20\n",
       "   _[4]=C21\n",
       "   _[5]=C10\n",
       "   _[6]=C11\n",
       "   _[7]=C12\n",
       "   _[8]=C13\n",
       "   _[9]=(432*d1^2*d10^4)*C20^10*C21^10*C10^6*C11^5*C12^5*C13^5*C14^5+(-864*d1^2*d6*d9*d10^3-216*d1*d2^2*d10^4)*C20^10*C21^10*C10^5*C11^5*C12^5*C13^5*C14^5+(-288*d1^2*d2*d9^3*d10^2+504*d1^2*d6^2*d9^2*d10^2+360*d1*d2^2*d6*d9*d10^3-36*d1*d2*d6^3*d10^3+27*d2^4*d10^4)*C20^10*C21^10*C10^4*C11^5*C12^5*C13^5*C14^5+(64*d1^3*d9^6+192*d1^2*d2*d6*d9^4*d10-72*d1^2*d6^3*d9^3*d10+136*d1*d2^3*d9^3*d10^2-162*d1*d2^2*d6^2*d9^2*d10^2+48*d1*d2*d6^4*d9*d10^2-d1*d6^6*d10^2-36*d2^4*d6*d9*d10^3+d2^3*d6^3*d10^3)*C20^10*C21^10*C10^3*C11^5*C12^5*C13^5*C14^5+(-16*d1^2*d2^2*d9^6+8*d1^2*d2*d6^2*d9^5-d1^2*d6^4*d9^4-48*d1*d2^3*d6*d9^4*d10+40*d1*d2^2*d6^3*d9^3*d10-11*d1*d2*d6^5*d9^2*d10+d1*d6^7*d9*d10-16*d2^5*d9^3*d10^2+8*d2^4*d6^2*d9^2*d10^2-d2^3*d6^4*d9*d10^2)*C20^10*C21^10*C10^2*C11^5*C12^5*C13^5*C14^5+(576*d1^2*d8*d9^2*d10^2+144*d1*d2*d5*d9*d10^3+144*d1*d2*d6*d8*d10^3+72*d1*d5*d6^2*d10^3)*C20^8*C21^8*C10^4*C11^4*C12^4*C13^4*C14^4+(192*d1^2*d5*d9^4*d10-576*d1^2*d6*d8*d9^3*d10-240*d1*d2^2*d8*d9^2*d10^2-192*d1*d2*d5*d6*d9^2*d10^2-168*d1*d2*d6^2*d8*d9*d10^2-108*d1*d5*d6^3*d9*d10^2+12*d1*d6^4*d8*d10^2-36*d2^3*d5*d9*d10^3-36*d2^3*d6*d8*d10^3+30*d2^2*d5*d6^2*d10^3)*C20^8*C21^8*C10^3*C11^4*C12^4*C13^4*C14^4+(-128*d1^2*d2*d8*d9^5-96*d1^2*d5*d6*d9^5+80*d1^2*d6^2*d8*d9^4-176*d1*d2^2*d5*d9^4*d10+80*d1*d2^2*d6*d8*d9^3*d10+4*d1*d2*d5*d6^2*d9^3*d10-20*d1*d2*d6^3*d8*d9^2*d10+34*d1*d5*d6^4*d9^2*d10-12*d1*d6^5*d8*d9*d10+24*d2^4*d8*d9^2*d10^2+52*d2^3*d5*d6*d9^2*d10^2+46*d2^3*d6^2*d8*d9*d10^2-41*d2^2*d5*d6^3*d9*d10^2-d2^2*d6^4*d8*d10^2+d2*d5*d6^5*d10^2)*C20^8*C21^8*C10^2*C11^4*C12^4*C13^4*C14^4+(32*d1*d2^3*d8*d9^5+16*d1*d2^2*d5*d6*d9^5-32*d1*d2^2*d6^2*d8*d9^4-8*d1*d2*d5*d6^3*d9^4+10*d1*d2*d6^4*d8*d9^3+d1*d5*d6^5*d9^3-d1*d6^6*d8*d9^2+32*d2^4*d5*d9^4*d10+16*d2^4*d6*d8*d9^3*d10-32*d2^3*d5*d6^2*d9^3*d10-8*d2^3*d6^3*d8*d9^2*d10+10*d2^2*d5*d6^4*d9^2*d10+d2^2*d6^5*d8*d9*d10-d2*d5*d6^6*d9*d10)*C20^8*C21^8*C10*C11^4*C12^4*C13^4*C14^4+(-288*d1*d5*d8*d10^3)*C20^6*C21^6*C10^4*C11^3*C12^3*C13^3*C14^3+(-96*d1*d2*d8^2*d9*d10^2-24*d1*d5^2*d9^2*d10^2+432*d1*d5*d6*d8*d9*d10^2-48*d1*d6^2*d8^2*d10^2+72*d2^2*d5*d8*d10^3-96*d2*d5^2*d6*d10^3)*C20^6*C21^6*C10^3*C11^3*C12^3*C13^3*C14^3+(128*d1^2*d8^2*d9^4+320*d1*d2*d5*d8*d9^3*d10+256*d1*d2*d6*d8^2*d9^2*d10+24*d1*d5^2*d6*d9^3*d10-56*d1*d5*d6^2*d8*d9^2*d10+48*d1*d6^3*d8^2*d9*d10+24*d2^3*d8^2*d9*d10^2+2*d2^2*d5^2*d9^2*d10^2-124*d2^2*d5*d6*d8*d9*d10^2+8*d2^2*d6^2*d8^2*d10^2+140*d2*d5^2*d6^2*d9*d10^2-8*d2*d5*d6^3*d8*d10^2-d5^2*d6^4*d10^2)*C20^6*C21^6*C10^2*C11^3*C12^3*C13^3*C14^3+(32*d1*d2^2*d8^2*d9^4+72*d1*d2*d5^2*d9^5-16*d1*d2*d5*d6*d8*d9^4-8*d1*d2*d6^2*d8^2*d9^3+30*d1*d5^2*d6^2*d9^4-44*d1*d5*d6^3*d8*d9^3+12*d1*d6^4*d8^2*d9^2-80*d2^3*d5*d8*d9^3*d10-64*d2^3*d6*d8^2*d9^2*d10+52*d2^2*d5^2*d6*d9^3*d10+84*d2^2*d5*d6^2*d8*d9^2*d10-8*d2^2*d6^3*d8^2*d9*d10-41*d2*d5^2*d6^3*d9^2*d10+8*d2*d5*d6^4*d8*d9*d10+d5^2*d6^5*d9*d10)*C20^6*C21^6*C10*C11^3*C12^3*C13^3*C14^3+(-16*d2^4*d8^2*d9^4-16*d2^3*d5^2*d9^5+16*d2^3*d5*d6*d8*d9^4+8*d2^3*d6^2*d8^2*d9^3+8*d2^2*d5^2*d6^2*d9^4-8*d2^2*d5*d6^3*d8*d9^3-d2^2*d6^4*d8^2*d9^2-d2*d5^2*d6^4*d9^3+d2*d5*d6^5*d8*d9^2)*C20^6*C21^6*C11^3*C12^3*C13^3*C14^3+(64*d1*d8^3*d10^2+64*d5^3*d10^3)*C20^4*C21^4*C10^3*C11^2*C12^2*C13^2*C14^2+(-320*d1*d5*d8^2*d9^2*d10-64*d1*d6*d8^3*d9*d10-16*d2^2*d8^3*d10^2+16*d2*d5^2*d8*d9*d10^2+16*d2*d5*d6*d8^2*d10^2-96*d5^3*d6*d9*d10^2+8*d5^2*d6^2*d8*d10^2)*C20^4*C21^4*C10^2*C11^2*C12^2*C13^2*C14^2+(-128*d1*d2*d8^3*d9^3-144*d1*d5^2*d8*d9^4+160*d1*d5*d6*d8^2*d9^3-48*d1*d6^2*d8^3*d9^2+80*d2^2*d5*d8^2*d9^2*d10+16*d2^2*d6*d8^3*d9*d10-36*d2*d5^3*d9^3*d10-124*d2*d5^2*d6*d8*d9^2*d10-16*d2*d5*d6^2*d8^2*d9*d10+30*d5^3*d6^2*d9^2*d10-8*d5^2*d6^3*d8*d9*d10)*C20^4*C21^4*C10*C11^2*C12^2*C13^2*C14^2+(32*d2^3*d8^3*d9^3+24*d2^2*d5^2*d8*d9^4-64*d2^2*d5*d6*d8^2*d9^3+8*d2^2*d6^2*d8^3*d9^2-36*d2*d5^3*d6*d9^4+46*d2*d5^2*d6^2*d8*d9^3-8*d2*d5*d6^3*d8^2*d9^2+d5^3*d6^3*d9^3-d5^2*d6^4*d8*d9^2)*C20^4*C21^4*C11^2*C12^2*C13^2*C14^2+(-16*d5^2*d8^2*d10^2)*C20^2*C21^2*C10^2*C11*C12*C13*C14+(64*d1*d8^4*d9^2+72*d5^3*d8*d9^2*d10+16*d5^2*d6*d8^2*d9*d10)*C20^2*C21^2*C10*C11*C12*C13*C14+(-16*d2^2*d8^4*d9^2+24*d2*d5^2*d8^2*d9^3+16*d2*d5*d6*d8^3*d9^2+27*d5^4*d9^4-36*d5^3*d6*d8*d9^3+8*d5^2*d6^2*d8^2*d9^2)*C20^2*C21^2*C11*C12*C13*C14+(-16*d5^2*d8^3*d9^2)\n",
       "   _[10]=C14\n",
       "   _[11]=e2\n",
       "[2]:\n",
       "   1,12,2,2,12,7,7,7,1,7,12"
      ]
     },
     "execution_count": 33,
     "metadata": {},
     "output_type": "execute_result"
    }
   ],
   "source": [
    "Delta2 = singular.new(singular.eval('subst(Delta_singular, d3, C10)'))\n",
    "Delta2.factorize()"
   ]
  },
  {
   "cell_type": "markdown",
   "metadata": {},
   "source": [
    "We now find that Delta factorizes into C10^12. The whole thing can also be made visually more appealing by blowing down some variables, e.g."
   ]
  },
  {
   "cell_type": "code",
   "execution_count": 34,
   "metadata": {},
   "outputs": [
    {
     "data": {
      "text/plain": [
       "[1]:\n",
       "   _[1]=1/16\n",
       "   _[2]=C20\n",
       "   _[3]=C21\n",
       "   _[4]=(432*d1^2*d10^4)*C20^10*C21^10*C10^6+(-864*d1^2*d6*d9*d10^3-216*d1*d2^2*d10^4)*C20^10*C21^10*C10^5+(-288*d1^2*d2*d9^3*d10^2+504*d1^2*d6^2*d9^2*d10^2+360*d1*d2^2*d6*d9*d10^3-36*d1*d2*d6^3*d10^3+27*d2^4*d10^4)*C20^10*C21^10*C10^4+(64*d1^3*d9^6+192*d1^2*d2*d6*d9^4*d10-72*d1^2*d6^3*d9^3*d10+136*d1*d2^3*d9^3*d10^2-162*d1*d2^2*d6^2*d9^2*d10^2+48*d1*d2*d6^4*d9*d10^2-d1*d6^6*d10^2-36*d2^4*d6*d9*d10^3+d2^3*d6^3*d10^3)*C20^10*C21^10*C10^3+(-16*d1^2*d2^2*d9^6+8*d1^2*d2*d6^2*d9^5-d1^2*d6^4*d9^4-48*d1*d2^3*d6*d9^4*d10+40*d1*d2^2*d6^3*d9^3*d10-11*d1*d2*d6^5*d9^2*d10+d1*d6^7*d9*d10-16*d2^5*d9^3*d10^2+8*d2^4*d6^2*d9^2*d10^2-d2^3*d6^4*d9*d10^2)*C20^10*C21^10*C10^2+(576*d1^2*d8*d9^2*d10^2+144*d1*d2*d5*d9*d10^3+144*d1*d2*d6*d8*d10^3+72*d1*d5*d6^2*d10^3)*C20^8*C21^8*C10^4+(192*d1^2*d5*d9^4*d10-576*d1^2*d6*d8*d9^3*d10-240*d1*d2^2*d8*d9^2*d10^2-192*d1*d2*d5*d6*d9^2*d10^2-168*d1*d2*d6^2*d8*d9*d10^2-108*d1*d5*d6^3*d9*d10^2+12*d1*d6^4*d8*d10^2-36*d2^3*d5*d9*d10^3-36*d2^3*d6*d8*d10^3+30*d2^2*d5*d6^2*d10^3)*C20^8*C21^8*C10^3+(-128*d1^2*d2*d8*d9^5-96*d1^2*d5*d6*d9^5+80*d1^2*d6^2*d8*d9^4-176*d1*d2^2*d5*d9^4*d10+80*d1*d2^2*d6*d8*d9^3*d10+4*d1*d2*d5*d6^2*d9^3*d10-20*d1*d2*d6^3*d8*d9^2*d10+34*d1*d5*d6^4*d9^2*d10-12*d1*d6^5*d8*d9*d10+24*d2^4*d8*d9^2*d10^2+52*d2^3*d5*d6*d9^2*d10^2+46*d2^3*d6^2*d8*d9*d10^2-41*d2^2*d5*d6^3*d9*d10^2-d2^2*d6^4*d8*d10^2+d2*d5*d6^5*d10^2)*C20^8*C21^8*C10^2+(32*d1*d2^3*d8*d9^5+16*d1*d2^2*d5*d6*d9^5-32*d1*d2^2*d6^2*d8*d9^4-8*d1*d2*d5*d6^3*d9^4+10*d1*d2*d6^4*d8*d9^3+d1*d5*d6^5*d9^3-d1*d6^6*d8*d9^2+32*d2^4*d5*d9^4*d10+16*d2^4*d6*d8*d9^3*d10-32*d2^3*d5*d6^2*d9^3*d10-8*d2^3*d6^3*d8*d9^2*d10+10*d2^2*d5*d6^4*d9^2*d10+d2^2*d6^5*d8*d9*d10-d2*d5*d6^6*d9*d10)*C20^8*C21^8*C10+(-288*d1*d5*d8*d10^3)*C20^6*C21^6*C10^4+(-96*d1*d2*d8^2*d9*d10^2-24*d1*d5^2*d9^2*d10^2+432*d1*d5*d6*d8*d9*d10^2-48*d1*d6^2*d8^2*d10^2+72*d2^2*d5*d8*d10^3-96*d2*d5^2*d6*d10^3)*C20^6*C21^6*C10^3+(128*d1^2*d8^2*d9^4+320*d1*d2*d5*d8*d9^3*d10+256*d1*d2*d6*d8^2*d9^2*d10+24*d1*d5^2*d6*d9^3*d10-56*d1*d5*d6^2*d8*d9^2*d10+48*d1*d6^3*d8^2*d9*d10+24*d2^3*d8^2*d9*d10^2+2*d2^2*d5^2*d9^2*d10^2-124*d2^2*d5*d6*d8*d9*d10^2+8*d2^2*d6^2*d8^2*d10^2+140*d2*d5^2*d6^2*d9*d10^2-8*d2*d5*d6^3*d8*d10^2-d5^2*d6^4*d10^2)*C20^6*C21^6*C10^2+(32*d1*d2^2*d8^2*d9^4+72*d1*d2*d5^2*d9^5-16*d1*d2*d5*d6*d8*d9^4-8*d1*d2*d6^2*d8^2*d9^3+30*d1*d5^2*d6^2*d9^4-44*d1*d5*d6^3*d8*d9^3+12*d1*d6^4*d8^2*d9^2-80*d2^3*d5*d8*d9^3*d10-64*d2^3*d6*d8^2*d9^2*d10+52*d2^2*d5^2*d6*d9^3*d10+84*d2^2*d5*d6^2*d8*d9^2*d10-8*d2^2*d6^3*d8^2*d9*d10-41*d2*d5^2*d6^3*d9^2*d10+8*d2*d5*d6^4*d8*d9*d10+d5^2*d6^5*d9*d10)*C20^6*C21^6*C10+(-16*d2^4*d8^2*d9^4-16*d2^3*d5^2*d9^5+16*d2^3*d5*d6*d8*d9^4+8*d2^3*d6^2*d8^2*d9^3+8*d2^2*d5^2*d6^2*d9^4-8*d2^2*d5*d6^3*d8*d9^3-d2^2*d6^4*d8^2*d9^2-d2*d5^2*d6^4*d9^3+d2*d5*d6^5*d8*d9^2)*C20^6*C21^6+(64*d1*d8^3*d10^2+64*d5^3*d10^3)*C20^4*C21^4*C10^3+(-320*d1*d5*d8^2*d9^2*d10-64*d1*d6*d8^3*d9*d10-16*d2^2*d8^3*d10^2+16*d2*d5^2*d8*d9*d10^2+16*d2*d5*d6*d8^2*d10^2-96*d5^3*d6*d9*d10^2+8*d5^2*d6^2*d8*d10^2)*C20^4*C21^4*C10^2+(-128*d1*d2*d8^3*d9^3-144*d1*d5^2*d8*d9^4+160*d1*d5*d6*d8^2*d9^3-48*d1*d6^2*d8^3*d9^2+80*d2^2*d5*d8^2*d9^2*d10+16*d2^2*d6*d8^3*d9*d10-36*d2*d5^3*d9^3*d10-124*d2*d5^2*d6*d8*d9^2*d10-16*d2*d5*d6^2*d8^2*d9*d10+30*d5^3*d6^2*d9^2*d10-8*d5^2*d6^3*d8*d9*d10)*C20^4*C21^4*C10+(32*d2^3*d8^3*d9^3+24*d2^2*d5^2*d8*d9^4-64*d2^2*d5*d6*d8^2*d9^3+8*d2^2*d6^2*d8^3*d9^2-36*d2*d5^3*d6*d9^4+46*d2*d5^2*d6^2*d8*d9^3-8*d2*d5*d6^3*d8^2*d9^2+d5^3*d6^3*d9^3-d5^2*d6^4*d8*d9^2)*C20^4*C21^4+(-16*d5^2*d8^2*d10^2)*C20^2*C21^2*C10^2+(64*d1*d8^4*d9^2+72*d5^3*d8*d9^2*d10+16*d5^2*d6*d8^2*d9*d10)*C20^2*C21^2*C10+(-16*d2^2*d8^4*d9^2+24*d2*d5^2*d8^2*d9^3+16*d2*d5*d6*d8^3*d9^2+27*d5^4*d9^4-36*d5^3*d6*d8*d9^3+8*d5^2*d6^2*d8^2*d9^2)*C20^2*C21^2+(-16*d5^2*d8^3*d9^2)\n",
       "   _[5]=C10\n",
       "[2]:\n",
       "   1,2,2,1,12"
      ]
     },
     "execution_count": 34,
     "metadata": {},
     "output_type": "execute_result"
    }
   ],
   "source": [
    "Delta3 = singular.new(singular.eval('subst(Delta_singular, d3, C10, e1, 1, e2, 1, C11, 1, C12, 1, C13, 1, C14, 1)'))\n",
    "#print(Delta2)\n",
    "Delta3.factorize()"
   ]
  },
  {
   "cell_type": "markdown",
   "metadata": {},
   "source": [
    "### PLaying with more symbolic manipulations"
   ]
  },
  {
   "cell_type": "markdown",
   "metadata": {},
   "source": [
    "In general, we will have to play around a lot with the sage singular interface. A useful reference for singular sage can be found here:\n",
    "https://doc.sagemath.org/html/en/reference/interfaces/sage/interfaces/singular.html\n",
    "\n",
    "Previously we have manually blown down all blow ups in the fiber and all variables that project onto the same C10 ray in the base.\n",
    "\n",
    "We can do the same thing earlier, by using the following function:"
   ]
  },
  {
   "cell_type": "code",
   "execution_count": 35,
   "metadata": {},
   "outputs": [
    {
     "data": {
      "text/plain": [
       "[1, A10, u, C20, B10, 1, v, C10, w, 1, 1, 1, 1, 1]"
      ]
     },
     "execution_count": 35,
     "metadata": {},
     "output_type": "execute_result"
    }
   ],
   "source": [
    "X.blow_down_coordinates()"
   ]
  },
  {
   "cell_type": "code",
   "execution_count": 36,
   "metadata": {},
   "outputs": [
    {
     "name": "stdout",
     "output_type": "stream",
     "text": [
      "Help on method blow_down_coordinates in module __main__:\n",
      "\n",
      "blow_down_coordinates(fibration=True, base=True, higher=False) method of __main__.fiberpolytope instance\n",
      "    Blows down coordinates specified by the Boolean arguments.\n",
      "    The blown down coordinates are internally set to 1.\n",
      "    \n",
      "    Parameters\n",
      "    ----------\n",
      "    fibration : bool, optional\n",
      "        fibration blow ups, by default True\n",
      "    base : bool, optional\n",
      "        blow ups of the base rays, by default True\n",
      "    higher : bool, optional\n",
      "        blow ups of the higher multiplicity base rays, by default False\n",
      "    \n",
      "    Returns\n",
      "    -------\n",
      "    list\n",
      "        list of new variables\n",
      "\n"
     ]
    }
   ],
   "source": [
    "help(X.blow_down_coordinates)"
   ]
  },
  {
   "cell_type": "code",
   "execution_count": 37,
   "metadata": {},
   "outputs": [
    {
     "data": {
      "text/plain": [
       "[(1, array([-1, -1,  0,  0])),\n",
       " (A10, array([-1,  0, -1, -1])),\n",
       " (u, array([-1,  0,  0,  0])),\n",
       " (C20, array([2, 1, 2, 0])),\n",
       " (B10, array([0, 0, 0, 1])),\n",
       " (1, array([1, 1, 2, 0])),\n",
       " (v, array([0, 1, 0, 0])),\n",
       " (C10, array([0, 1, 1, 0])),\n",
       " (w, array([ 1, -1,  0,  0])),\n",
       " (1, array([2, 0, 1, 0])),\n",
       " (1, array([1, 1, 1, 0])),\n",
       " (1, array([0, 0, 1, 0])),\n",
       " (1, array([1, 0, 1, 0])),\n",
       " (1, array([ 0, -1,  0,  0]))]"
      ]
     },
     "execution_count": 37,
     "metadata": {},
     "output_type": "execute_result"
    }
   ],
   "source": [
    "X.vertices_to_variables()"
   ]
  },
  {
   "cell_type": "markdown",
   "metadata": {},
   "source": [
    "It will internally set all previously mentioned variables to zero. Note though, if we want to continue doing calculations, we have to change our singular ring again. We again want to work on the level of 'd' coefficients."
   ]
  },
  {
   "cell_type": "code",
   "execution_count": 38,
   "metadata": {},
   "outputs": [
    {
     "data": {
      "text/plain": [
       "polynomial ring, over a field, global ordering\n",
       "// coefficients: QQ(d1, d2, d3, d4, d5, d6, d7, d8, d9, d10)\n",
       "// number of vars : 7\n",
       "//        block   1 : ordering dp\n",
       "//                  : names    A10 u C20 B10 v C10 w\n",
       "//        block   2 : ordering C"
      ]
     },
     "execution_count": 38,
     "metadata": {},
     "output_type": "execute_result"
    }
   ],
   "source": [
    "X.set_singular_ring('d')"
   ]
  },
  {
   "cell_type": "markdown",
   "metadata": {},
   "source": [
    "We can also double check, the current singular ring via"
   ]
  },
  {
   "cell_type": "code",
   "execution_count": 39,
   "metadata": {},
   "outputs": [
    {
     "data": {
      "text/plain": [
       "polynomial ring, over a field, global ordering\n",
       "// coefficients: QQ(d1, d2, d3, d4, d5, d6, d7, d8, d9, d10)\n",
       "// number of vars : 7\n",
       "//        block   1 : ordering dp\n",
       "//                  : names    A10 u C20 B10 v C10 w\n",
       "//        block   2 : ordering C"
      ]
     },
     "execution_count": 39,
     "metadata": {},
     "output_type": "execute_result"
    }
   ],
   "source": [
    "singular.current_ring()"
   ]
  },
  {
   "cell_type": "markdown",
   "metadata": {},
   "source": [
    "finding again our d's"
   ]
  },
  {
   "cell_type": "code",
   "execution_count": 40,
   "metadata": {},
   "outputs": [
    {
     "data": {
      "text/plain": [
       "[(d1)*C20^2*C10^3,\n",
       " (d2)*C20*C10^2,\n",
       " (d3)*C10,\n",
       " 0,\n",
       " (d5)*C10,\n",
       " (d6)*C20*C10,\n",
       " 0,\n",
       " (d8),\n",
       " (d9)*C20,\n",
       " (d10)*C20^2]"
      ]
     },
     "execution_count": 40,
     "metadata": {},
     "output_type": "execute_result"
    }
   ],
   "source": [
    "d = X.find_d()\n",
    "d"
   ]
  },
  {
   "cell_type": "code",
   "execution_count": 41,
   "metadata": {},
   "outputs": [
    {
     "data": {
      "text/plain": [
       "[1]:\n",
       "   _[1]=-1/48\n",
       "   _[2]=(-48*d1*d3*d9^2+16*d2^2*d9^2+24*d2*d3*d6*d10-8*d2*d6^2*d9+d6^4)*C20^4*C10^2+(-16*d2*d3*d8*d9-48*d3^2*d5*d10+24*d3*d5*d6*d9-8*d3*d6^2*d8)*C20^2*C10+(16*d3^2*d8^2)\n",
       "   _[3]=C10\n",
       "[2]:\n",
       "   1,1,2"
      ]
     },
     "execution_count": 41,
     "metadata": {},
     "output_type": "execute_result"
    }
   ],
   "source": [
    "f = X.find_f(d)\n",
    "#print(f)\n",
    "f.factorize()"
   ]
  },
  {
   "cell_type": "code",
   "execution_count": 42,
   "metadata": {},
   "outputs": [
    {
     "data": {
      "text/plain": [
       "[1]:\n",
       "   _[1]=-1/864\n",
       "   _[2]=(-288*d1*d2*d3*d9^3+864*d1*d3^3*d10^2-864*d1*d3^2*d6*d9*d10+72*d1*d3*d6^2*d9^2+64*d2^3*d9^3-216*d2^2*d3^2*d10^2+144*d2^2*d3*d6*d9*d10-48*d2^2*d6^2*d9^2-36*d2*d3*d6^3*d10+12*d2*d6^4*d9-d6^6)*C20^6*C10^3+(576*d1*d3^2*d8*d9^2-96*d2^2*d3*d8*d9^2+144*d2*d3^2*d5*d9*d10+144*d2*d3^2*d6*d8*d10+144*d2*d3*d5*d6*d9^2-24*d2*d3*d6^2*d8*d9+72*d3^2*d5*d6^2*d10-36*d3*d5*d6^3*d9+12*d3*d6^4*d8)*C20^4*C10^2+(-96*d2*d3^2*d8^2*d9-288*d3^3*d5*d8*d10-216*d3^2*d5^2*d9^2+144*d3^2*d5*d6*d8*d9-48*d3^2*d6^2*d8^2)*C20^2*C10+(64*d3^3*d8^3)\n",
       "   _[3]=C10\n",
       "[2]:\n",
       "   1,1,3"
      ]
     },
     "execution_count": 42,
     "metadata": {},
     "output_type": "execute_result"
    }
   ],
   "source": [
    "g = X.find_g(d)\n",
    "g.factorize()"
   ]
  },
  {
   "cell_type": "code",
   "execution_count": 43,
   "metadata": {},
   "outputs": [
    {
     "data": {
      "text/plain": [
       "[1]:\n",
       "   _[1]=(d3^2)/16\n",
       "   _[2]=C20\n",
       "   _[3]=(64*d1^3*d3*d9^6-16*d1^2*d2^2*d9^6-288*d1^2*d2*d3^2*d9^3*d10^2+192*d1^2*d2*d3*d6*d9^4*d10+8*d1^2*d2*d6^2*d9^5+432*d1^2*d3^4*d10^4-864*d1^2*d3^3*d6*d9*d10^3+504*d1^2*d3^2*d6^2*d9^2*d10^2-72*d1^2*d3*d6^3*d9^3*d10-d1^2*d6^4*d9^4+136*d1*d2^3*d3*d9^3*d10^2-48*d1*d2^3*d6*d9^4*d10-216*d1*d2^2*d3^3*d10^4+360*d1*d2^2*d3^2*d6*d9*d10^3-162*d1*d2^2*d3*d6^2*d9^2*d10^2+40*d1*d2^2*d6^3*d9^3*d10-36*d1*d2*d3^2*d6^3*d10^3+48*d1*d2*d3*d6^4*d9*d10^2-11*d1*d2*d6^5*d9^2*d10-d1*d3*d6^6*d10^2+d1*d6^7*d9*d10-16*d2^5*d9^3*d10^2+27*d2^4*d3^2*d10^4-36*d2^4*d3*d6*d9*d10^3+8*d2^4*d6^2*d9^2*d10^2+d2^3*d3*d6^3*d10^3-d2^3*d6^4*d9*d10^2)*C20^10*C10^5+(-128*d1^2*d2*d3*d8*d9^5+576*d1^2*d3^3*d8*d9^2*d10^2+192*d1^2*d3^2*d5*d9^4*d10-576*d1^2*d3^2*d6*d8*d9^3*d10-96*d1^2*d3*d5*d6*d9^5+80*d1^2*d3*d6^2*d8*d9^4+32*d1*d2^3*d8*d9^5-240*d1*d2^2*d3^2*d8*d9^2*d10^2-176*d1*d2^2*d3*d5*d9^4*d10+80*d1*d2^2*d3*d6*d8*d9^3*d10+16*d1*d2^2*d5*d6*d9^5-32*d1*d2^2*d6^2*d8*d9^4+144*d1*d2*d3^3*d5*d9*d10^3+144*d1*d2*d3^3*d6*d8*d10^3-192*d1*d2*d3^2*d5*d6*d9^2*d10^2-168*d1*d2*d3^2*d6^2*d8*d9*d10^2+4*d1*d2*d3*d5*d6^2*d9^3*d10-20*d1*d2*d3*d6^3*d8*d9^2*d10-8*d1*d2*d5*d6^3*d9^4+10*d1*d2*d6^4*d8*d9^3+72*d1*d3^3*d5*d6^2*d10^3-108*d1*d3^2*d5*d6^3*d9*d10^2+12*d1*d3^2*d6^4*d8*d10^2+34*d1*d3*d5*d6^4*d9^2*d10-12*d1*d3*d6^5*d8*d9*d10+d1*d5*d6^5*d9^3-d1*d6^6*d8*d9^2+24*d2^4*d3*d8*d9^2*d10^2+32*d2^4*d5*d9^4*d10+16*d2^4*d6*d8*d9^3*d10-36*d2^3*d3^2*d5*d9*d10^3-36*d2^3*d3^2*d6*d8*d10^3+52*d2^3*d3*d5*d6*d9^2*d10^2+46*d2^3*d3*d6^2*d8*d9*d10^2-32*d2^3*d5*d6^2*d9^3*d10-8*d2^3*d6^3*d8*d9^2*d10+30*d2^2*d3^2*d5*d6^2*d10^3-41*d2^2*d3*d5*d6^3*d9*d10^2-d2^2*d3*d6^4*d8*d10^2+10*d2^2*d5*d6^4*d9^2*d10+d2^2*d6^5*d8*d9*d10+d2*d3*d5*d6^5*d10^2-d2*d5*d6^6*d9*d10)*C20^8*C10^4+(128*d1^2*d3^2*d8^2*d9^4+32*d1*d2^2*d3*d8^2*d9^4-96*d1*d2*d3^3*d8^2*d9*d10^2+320*d1*d2*d3^2*d5*d8*d9^3*d10+256*d1*d2*d3^2*d6*d8^2*d9^2*d10+72*d1*d2*d3*d5^2*d9^5-16*d1*d2*d3*d5*d6*d8*d9^4-8*d1*d2*d3*d6^2*d8^2*d9^3-288*d1*d3^4*d5*d8*d10^3-24*d1*d3^3*d5^2*d9^2*d10^2+432*d1*d3^3*d5*d6*d8*d9*d10^2-48*d1*d3^3*d6^2*d8^2*d10^2+24*d1*d3^2*d5^2*d6*d9^3*d10-56*d1*d3^2*d5*d6^2*d8*d9^2*d10+48*d1*d3^2*d6^3*d8^2*d9*d10+30*d1*d3*d5^2*d6^2*d9^4-44*d1*d3*d5*d6^3*d8*d9^3+12*d1*d3*d6^4*d8^2*d9^2-16*d2^4*d8^2*d9^4+24*d2^3*d3^2*d8^2*d9*d10^2-80*d2^3*d3*d5*d8*d9^3*d10-64*d2^3*d3*d6*d8^2*d9^2*d10-16*d2^3*d5^2*d9^5+16*d2^3*d5*d6*d8*d9^4+8*d2^3*d6^2*d8^2*d9^3+72*d2^2*d3^3*d5*d8*d10^3+2*d2^2*d3^2*d5^2*d9^2*d10^2-124*d2^2*d3^2*d5*d6*d8*d9*d10^2+8*d2^2*d3^2*d6^2*d8^2*d10^2+52*d2^2*d3*d5^2*d6*d9^3*d10+84*d2^2*d3*d5*d6^2*d8*d9^2*d10-8*d2^2*d3*d6^3*d8^2*d9*d10+8*d2^2*d5^2*d6^2*d9^4-8*d2^2*d5*d6^3*d8*d9^3-d2^2*d6^4*d8^2*d9^2-96*d2*d3^3*d5^2*d6*d10^3+140*d2*d3^2*d5^2*d6^2*d9*d10^2-8*d2*d3^2*d5*d6^3*d8*d10^2-41*d2*d3*d5^2*d6^3*d9^2*d10+8*d2*d3*d5*d6^4*d8*d9*d10-d2*d5^2*d6^4*d9^3+d2*d5*d6^5*d8*d9^2-d3^2*d5^2*d6^4*d10^2+d3*d5^2*d6^5*d9*d10)*C20^6*C10^3+(-128*d1*d2*d3^2*d8^3*d9^3+64*d1*d3^4*d8^3*d10^2-320*d1*d3^3*d5*d8^2*d9^2*d10-64*d1*d3^3*d6*d8^3*d9*d10-144*d1*d3^2*d5^2*d8*d9^4+160*d1*d3^2*d5*d6*d8^2*d9^3-48*d1*d3^2*d6^2*d8^3*d9^2+32*d2^3*d3*d8^3*d9^3-16*d2^2*d3^3*d8^3*d10^2+80*d2^2*d3^2*d5*d8^2*d9^2*d10+16*d2^2*d3^2*d6*d8^3*d9*d10+24*d2^2*d3*d5^2*d8*d9^4-64*d2^2*d3*d5*d6*d8^2*d9^3+8*d2^2*d3*d6^2*d8^3*d9^2+16*d2*d3^3*d5^2*d8*d9*d10^2+16*d2*d3^3*d5*d6*d8^2*d10^2-36*d2*d3^2*d5^3*d9^3*d10-124*d2*d3^2*d5^2*d6*d8*d9^2*d10-16*d2*d3^2*d5*d6^2*d8^2*d9*d10-36*d2*d3*d5^3*d6*d9^4+46*d2*d3*d5^2*d6^2*d8*d9^3-8*d2*d3*d5*d6^3*d8^2*d9^2+64*d3^4*d5^3*d10^3-96*d3^3*d5^3*d6*d9*d10^2+8*d3^3*d5^2*d6^2*d8*d10^2+30*d3^2*d5^3*d6^2*d9^2*d10-8*d3^2*d5^2*d6^3*d8*d9*d10+d3*d5^3*d6^3*d9^3-d3*d5^2*d6^4*d8*d9^2)*C20^4*C10^2+(64*d1*d3^3*d8^4*d9^2-16*d2^2*d3^2*d8^4*d9^2+24*d2*d3^2*d5^2*d8^2*d9^3+16*d2*d3^2*d5*d6*d8^3*d9^2-16*d3^4*d5^2*d8^2*d10^2+72*d3^3*d5^3*d8*d9^2*d10+16*d3^3*d5^2*d6*d8^2*d9*d10+27*d3^2*d5^4*d9^4-36*d3^2*d5^3*d6*d8*d9^3+8*d3^2*d5^2*d6^2*d8^2*d9^2)*C20^2*C10+(-16*d3^3*d5^2*d8^3*d9^2)\n",
       "   _[4]=C10\n",
       "[2]:\n",
       "   1,2,1,7"
      ]
     },
     "execution_count": 43,
     "metadata": {},
     "output_type": "execute_result"
    }
   ],
   "source": [
    "Delta = X.find_discriminant()\n",
    "Delta.factorize()"
   ]
  },
  {
   "cell_type": "code",
   "execution_count": 44,
   "metadata": {},
   "outputs": [],
   "source": [
    "singular.clear('Delta_singular')\n",
    "singular.set('poly', 'Delta_singular', Delta.string())\n",
    "#singular.get('Delta')"
   ]
  },
  {
   "cell_type": "code",
   "execution_count": 45,
   "metadata": {},
   "outputs": [
    {
     "data": {
      "text/plain": [
       "[1]:\n",
       "   _[1]=1/16\n",
       "   _[2]=C20\n",
       "   _[3]=(432*d1^2*d10^4)*C20^10*C10^6+(-864*d1^2*d6*d9*d10^3-216*d1*d2^2*d10^4)*C20^10*C10^5+(-288*d1^2*d2*d9^3*d10^2+504*d1^2*d6^2*d9^2*d10^2+360*d1*d2^2*d6*d9*d10^3-36*d1*d2*d6^3*d10^3+27*d2^4*d10^4)*C20^10*C10^4+(64*d1^3*d9^6+192*d1^2*d2*d6*d9^4*d10-72*d1^2*d6^3*d9^3*d10+136*d1*d2^3*d9^3*d10^2-162*d1*d2^2*d6^2*d9^2*d10^2+48*d1*d2*d6^4*d9*d10^2-d1*d6^6*d10^2-36*d2^4*d6*d9*d10^3+d2^3*d6^3*d10^3)*C20^10*C10^3+(-16*d1^2*d2^2*d9^6+8*d1^2*d2*d6^2*d9^5-d1^2*d6^4*d9^4-48*d1*d2^3*d6*d9^4*d10+40*d1*d2^2*d6^3*d9^3*d10-11*d1*d2*d6^5*d9^2*d10+d1*d6^7*d9*d10-16*d2^5*d9^3*d10^2+8*d2^4*d6^2*d9^2*d10^2-d2^3*d6^4*d9*d10^2)*C20^10*C10^2+(576*d1^2*d8*d9^2*d10^2+144*d1*d2*d5*d9*d10^3+144*d1*d2*d6*d8*d10^3+72*d1*d5*d6^2*d10^3)*C20^8*C10^4+(192*d1^2*d5*d9^4*d10-576*d1^2*d6*d8*d9^3*d10-240*d1*d2^2*d8*d9^2*d10^2-192*d1*d2*d5*d6*d9^2*d10^2-168*d1*d2*d6^2*d8*d9*d10^2-108*d1*d5*d6^3*d9*d10^2+12*d1*d6^4*d8*d10^2-36*d2^3*d5*d9*d10^3-36*d2^3*d6*d8*d10^3+30*d2^2*d5*d6^2*d10^3)*C20^8*C10^3+(-128*d1^2*d2*d8*d9^5-96*d1^2*d5*d6*d9^5+80*d1^2*d6^2*d8*d9^4-176*d1*d2^2*d5*d9^4*d10+80*d1*d2^2*d6*d8*d9^3*d10+4*d1*d2*d5*d6^2*d9^3*d10-20*d1*d2*d6^3*d8*d9^2*d10+34*d1*d5*d6^4*d9^2*d10-12*d1*d6^5*d8*d9*d10+24*d2^4*d8*d9^2*d10^2+52*d2^3*d5*d6*d9^2*d10^2+46*d2^3*d6^2*d8*d9*d10^2-41*d2^2*d5*d6^3*d9*d10^2-d2^2*d6^4*d8*d10^2+d2*d5*d6^5*d10^2)*C20^8*C10^2+(-288*d1*d5*d8*d10^3)*C20^6*C10^4+(32*d1*d2^3*d8*d9^5+16*d1*d2^2*d5*d6*d9^5-32*d1*d2^2*d6^2*d8*d9^4-8*d1*d2*d5*d6^3*d9^4+10*d1*d2*d6^4*d8*d9^3+d1*d5*d6^5*d9^3-d1*d6^6*d8*d9^2+32*d2^4*d5*d9^4*d10+16*d2^4*d6*d8*d9^3*d10-32*d2^3*d5*d6^2*d9^3*d10-8*d2^3*d6^3*d8*d9^2*d10+10*d2^2*d5*d6^4*d9^2*d10+d2^2*d6^5*d8*d9*d10-d2*d5*d6^6*d9*d10)*C20^8*C10+(-96*d1*d2*d8^2*d9*d10^2-24*d1*d5^2*d9^2*d10^2+432*d1*d5*d6*d8*d9*d10^2-48*d1*d6^2*d8^2*d10^2+72*d2^2*d5*d8*d10^3-96*d2*d5^2*d6*d10^3)*C20^6*C10^3+(128*d1^2*d8^2*d9^4+320*d1*d2*d5*d8*d9^3*d10+256*d1*d2*d6*d8^2*d9^2*d10+24*d1*d5^2*d6*d9^3*d10-56*d1*d5*d6^2*d8*d9^2*d10+48*d1*d6^3*d8^2*d9*d10+24*d2^3*d8^2*d9*d10^2+2*d2^2*d5^2*d9^2*d10^2-124*d2^2*d5*d6*d8*d9*d10^2+8*d2^2*d6^2*d8^2*d10^2+140*d2*d5^2*d6^2*d9*d10^2-8*d2*d5*d6^3*d8*d10^2-d5^2*d6^4*d10^2)*C20^6*C10^2+(32*d1*d2^2*d8^2*d9^4+72*d1*d2*d5^2*d9^5-16*d1*d2*d5*d6*d8*d9^4-8*d1*d2*d6^2*d8^2*d9^3+30*d1*d5^2*d6^2*d9^4-44*d1*d5*d6^3*d8*d9^3+12*d1*d6^4*d8^2*d9^2-80*d2^3*d5*d8*d9^3*d10-64*d2^3*d6*d8^2*d9^2*d10+52*d2^2*d5^2*d6*d9^3*d10+84*d2^2*d5*d6^2*d8*d9^2*d10-8*d2^2*d6^3*d8^2*d9*d10-41*d2*d5^2*d6^3*d9^2*d10+8*d2*d5*d6^4*d8*d9*d10+d5^2*d6^5*d9*d10)*C20^6*C10+(64*d1*d8^3*d10^2+64*d5^3*d10^3)*C20^4*C10^3+(-16*d2^4*d8^2*d9^4-16*d2^3*d5^2*d9^5+16*d2^3*d5*d6*d8*d9^4+8*d2^3*d6^2*d8^2*d9^3+8*d2^2*d5^2*d6^2*d9^4-8*d2^2*d5*d6^3*d8*d9^3-d2^2*d6^4*d8^2*d9^2-d2*d5^2*d6^4*d9^3+d2*d5*d6^5*d8*d9^2)*C20^6+(-320*d1*d5*d8^2*d9^2*d10-64*d1*d6*d8^3*d9*d10-16*d2^2*d8^3*d10^2+16*d2*d5^2*d8*d9*d10^2+16*d2*d5*d6*d8^2*d10^2-96*d5^3*d6*d9*d10^2+8*d5^2*d6^2*d8*d10^2)*C20^4*C10^2+(-128*d1*d2*d8^3*d9^3-144*d1*d5^2*d8*d9^4+160*d1*d5*d6*d8^2*d9^3-48*d1*d6^2*d8^3*d9^2+80*d2^2*d5*d8^2*d9^2*d10+16*d2^2*d6*d8^3*d9*d10-36*d2*d5^3*d9^3*d10-124*d2*d5^2*d6*d8*d9^2*d10-16*d2*d5*d6^2*d8^2*d9*d10+30*d5^3*d6^2*d9^2*d10-8*d5^2*d6^3*d8*d9*d10)*C20^4*C10+(32*d2^3*d8^3*d9^3+24*d2^2*d5^2*d8*d9^4-64*d2^2*d5*d6*d8^2*d9^3+8*d2^2*d6^2*d8^3*d9^2-36*d2*d5^3*d6*d9^4+46*d2*d5^2*d6^2*d8*d9^3-8*d2*d5*d6^3*d8^2*d9^2+d5^3*d6^3*d9^3-d5^2*d6^4*d8*d9^2)*C20^4+(-16*d5^2*d8^2*d10^2)*C20^2*C10^2+(64*d1*d8^4*d9^2+72*d5^3*d8*d9^2*d10+16*d5^2*d6*d8^2*d9*d10)*C20^2*C10+(-16*d2^2*d8^4*d9^2+24*d2*d5^2*d8^2*d9^3+16*d2*d5*d6*d8^3*d9^2+27*d5^4*d9^4-36*d5^3*d6*d8*d9^3+8*d5^2*d6^2*d8^2*d9^2)*C20^2+(-16*d5^2*d8^3*d9^2)\n",
       "   _[4]=C10\n",
       "[2]:\n",
       "   1,2,1,12"
      ]
     },
     "execution_count": 45,
     "metadata": {},
     "output_type": "execute_result"
    }
   ],
   "source": [
    "Delta2 = singular.new(singular.eval('subst(Delta_singular, d3, C10)'))\n",
    "#print(Delta2)\n",
    "Delta2.factorize()"
   ]
  },
  {
   "cell_type": "code",
   "execution_count": 46,
   "metadata": {},
   "outputs": [
    {
     "data": {
      "text/plain": [
       "[1]:\n",
       "   _[1]=-1/48\n",
       "   _[2]=(-48*d1*d9^2+24*d2*d6*d10)*C20^4*C10+(16*d2^2*d9^2-8*d2*d6^2*d9+d6^4)*C20^4+(-48*d5*d10)*C20^2*C10+(-16*d2*d8*d9+24*d5*d6*d9-8*d6^2*d8)*C20^2+(16*d8^2)\n",
       "   _[3]=C10\n",
       "[2]:\n",
       "   1,1,4"
      ]
     },
     "execution_count": 46,
     "metadata": {},
     "output_type": "execute_result"
    }
   ],
   "source": [
    "singular.clear('f')\n",
    "singular.set('poly', 'f', f.string())\n",
    "f2 = singular.new(singular.eval('subst(f, d3, C10)'))\n",
    "#print(Delta2)\n",
    "f2.factorize()"
   ]
  },
  {
   "cell_type": "code",
   "execution_count": 47,
   "metadata": {},
   "outputs": [
    {
     "data": {
      "text/plain": [
       "[1]:\n",
       "   _[1]=-1/864\n",
       "   _[2]=(864*d1*d10^2)*C20^6*C10^3+(-864*d1*d6*d9*d10-216*d2^2*d10^2)*C20^6*C10^2+(-288*d1*d2*d9^3+72*d1*d6^2*d9^2+144*d2^2*d6*d9*d10-36*d2*d6^3*d10)*C20^6*C10+(64*d2^3*d9^3-48*d2^2*d6^2*d9^2+12*d2*d6^4*d9-d6^6)*C20^6+(576*d1*d8*d9^2+144*d2*d5*d9*d10+144*d2*d6*d8*d10+72*d5*d6^2*d10)*C20^4*C10+(-96*d2^2*d8*d9^2+144*d2*d5*d6*d9^2-24*d2*d6^2*d8*d9-36*d5*d6^3*d9+12*d6^4*d8)*C20^4+(-288*d5*d8*d10)*C20^2*C10+(-96*d2*d8^2*d9-216*d5^2*d9^2+144*d5*d6*d8*d9-48*d6^2*d8^2)*C20^2+(64*d8^3)\n",
       "   _[3]=C10\n",
       "[2]:\n",
       "   1,1,6"
      ]
     },
     "execution_count": 47,
     "metadata": {},
     "output_type": "execute_result"
    }
   ],
   "source": [
    "singular.clear('g')\n",
    "singular.set('poly', 'g', g.string())\n",
    "g2 = singular.new(singular.eval('subst(g, d3, C10)'))\n",
    "#print(Delta2)\n",
    "g2.factorize()"
   ]
  },
  {
   "cell_type": "markdown",
   "metadata": {},
   "source": [
    "Thus we find that at codim2 when d3 -> C10 we have a (4,6,12) singularity."
   ]
  },
  {
   "cell_type": "markdown",
   "metadata": {},
   "source": [
    "### Resetting information\n",
    "\n",
    "In order to reset our fibration to the initially used one without any blown downs we sort again."
   ]
  },
  {
   "cell_type": "code",
   "execution_count": 48,
   "metadata": {},
   "outputs": [],
   "source": [
    "X._sort_variables()"
   ]
  },
  {
   "cell_type": "code",
   "execution_count": 49,
   "metadata": {},
   "outputs": [
    {
     "data": {
      "text/plain": [
       "[e1, A10, u, C20, B10, C21, v, C10, w, C11, C12, C13, C14, e2]"
      ]
     },
     "execution_count": 49,
     "metadata": {},
     "output_type": "execute_result"
    }
   ],
   "source": [
    "X.variables"
   ]
  },
  {
   "cell_type": "markdown",
   "metadata": {},
   "source": [
    "Note, that, if we want to do more symbolic computations, we'd have to reconfigure the singular ring."
   ]
  },
  {
   "cell_type": "code",
   "execution_count": 50,
   "metadata": {},
   "outputs": [
    {
     "name": "stdout",
     "output_type": "stream",
     "text": [
      "Help on method clear_fibration in module __main__:\n",
      "\n",
      "clear_fibration() method of __main__.fiberpolytope instance\n",
      "    Resets all active calculation to the base Polytope\n",
      "\n"
     ]
    }
   ],
   "source": [
    "help(X.clear_fibration)"
   ]
  },
  {
   "cell_type": "markdown",
   "metadata": {},
   "source": [
    "That's it. There is another tutorial which deals more with the fibration structure of the reflexive polytopes."
   ]
  }
 ],
 "metadata": {
  "kernelspec": {
   "display_name": "SageMath 9.0",
   "language": "sage",
   "name": "sagemath"
  },
  "language_info": {
   "codemirror_mode": {
    "name": "ipython",
    "version": 3
   },
   "file_extension": ".py",
   "mimetype": "text/x-python",
   "name": "python",
   "nbconvert_exporter": "python",
   "pygments_lexer": "ipython3",
   "version": "3.7.3"
  }
 },
 "nbformat": 4,
 "nbformat_minor": 2
}
